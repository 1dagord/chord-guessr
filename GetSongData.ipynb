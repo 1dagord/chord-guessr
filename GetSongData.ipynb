{
 "cells": [
  {
   "cell_type": "code",
   "execution_count": 2,
   "id": "a511343a",
   "metadata": {},
   "outputs": [],
   "source": [
    "from selenium.webdriver.common.by import By\n",
    "from __future__ import unicode_literals\n",
    "from fake_useragent import UserAgent\n",
    "from selenium import webdriver\n",
    "from bs4 import BeautifulSoup\n",
    "from yt_dlp import YoutubeDL\n",
    "\n",
    "import urllib.request\n",
    "import time\n",
    "import os"
   ]
  },
  {
   "cell_type": "markdown",
   "id": "50f6a31d",
   "metadata": {},
   "source": [
    "# Step 1: Get Songs"
   ]
  },
  {
   "cell_type": "code",
   "execution_count": null,
   "id": "22b3d9d9",
   "metadata": {},
   "outputs": [],
   "source": [
    "url = \"https://www.billboard.com/charts/greatest-hot-100-singles/\"\n",
    "\n",
    "# writes raw HTML to file\n",
    "with open(\"billboard.txt\", \"w\") as file:\n",
    "    file.write(urllib.request.urlopen(url).read().decode(\"utf-8\"))        \n",
    "\n",
    "# parses raw HTML\n",
    "with open(\"billboard.txt\", \"r\") as file:\n",
    "    html = file.read()\n",
    "soup = BeautifulSoup(html, \"html.parser\")\n",
    "\n",
    "sp = soup.get_text().replace(\"\\n\", \"\")\n",
    "print(sp)"
   ]
  },
  {
   "cell_type": "code",
   "execution_count": null,
   "id": "e8b5a124",
   "metadata": {},
   "outputs": [],
   "source": [
    "# [rank-1] [song title] [artist name]\n",
    "rankings = []\n",
    "\n",
    "i = 1\n",
    "while len(rankings) < 100:\n",
    "    ind = sp.find(f\"\\t{i}\\t\")\n",
    "    rest = sp[ind:].lstrip(\"\\t\")\n",
    "    line = rest[:rest.find(f\"{i+1}\")]\n",
    "    \n",
    "    num = line[:len(str(i))]\n",
    "    \n",
    "    # line now starts at song title\n",
    "    line = line[len(str(i)):].lstrip(\"\\t\")\n",
    "    songTitle = line[:line.find(\"\\t\")]\n",
    "    \n",
    "    # line now starts at artist name\n",
    "    line = line[len(songTitle):].lstrip(\"\\t\")\n",
    "    artistName = line[:line.find(\"\\t\")]\n",
    "\n",
    "    rankings.append([songTitle, artistName])\n",
    "\n",
    "    i += 1\n",
    "\n",
    "# for i, entry in enumerate(rankings):\n",
    "#     song, artist = entry\n",
    "#     print(f\"{i}: {song}\\t{artist}\")\n",
    "rankings[-1][1] = \"Carly Simon\" # fixing an error\n",
    "print(rankings[-1])"
   ]
  },
  {
   "cell_type": "markdown",
   "id": "19478eca",
   "metadata": {},
   "source": [
    "## Web Scraping"
   ]
  },
  {
   "cell_type": "code",
   "execution_count": null,
   "id": "ba56a6ab",
   "metadata": {},
   "outputs": [],
   "source": [
    "# start driver\n",
    "options = webdriver.SafariOptions()\n",
    "\n",
    "ua = UserAgent(browsers=[\"safari\"])\n",
    "options.add_argument(f\"user-agent={ua.random}\")\n",
    "options.add_argument(\"--incognito\")\n",
    "\n",
    "driver = webdriver.Safari(options=options)\n",
    "driver.maximize_window()"
   ]
  },
  {
   "cell_type": "markdown",
   "id": "09c43f7e",
   "metadata": {},
   "source": [
    "### Get link to YouTube video"
   ]
  },
  {
   "cell_type": "code",
   "execution_count": 39,
   "id": "81bb6c89",
   "metadata": {},
   "outputs": [],
   "source": [
    "# test: get song from top of billboard top 100\n",
    "song, artist = rankings[78]\n",
    "driver.get(f\"https://www.youtube.com/results?search_query={song}+{artist}\")"
   ]
  },
  {
   "cell_type": "code",
   "execution_count": null,
   "id": "24231615",
   "metadata": {},
   "outputs": [],
   "source": [
    "# get link to video\n",
    "time.sleep(20)\n",
    "href = None\n",
    "videos = driver.find_elements(\n",
    "            By.TAG_NAME, \n",
    "            \"ytd-thumbnail\"\n",
    "        )\n",
    "while len(videos) > 0 and not href:\n",
    "    href = videos[0].get_attribute(\"href\")\n",
    "    videos = videos[1:]\n",
    "    \n",
    "if not href:\n",
    "    videos = driver.find_elements(\n",
    "        By.ID, \n",
    "        \"video-title\"\n",
    "    )\n",
    "    while len(videos) > 0 and not href:\n",
    "        href = videos[0].get_attribute(\"href\")\n",
    "        videos = videos[1:]\n",
    "        \n",
    "if not href:\n",
    "    videos = driver.find_elements(\n",
    "        By.ID, \n",
    "        \"movie_player\"\n",
    "    )\n",
    "    while len(videos) > 0 and not href:\n",
    "        href = videos[0].get_attribute(\"href\")\n",
    "        videos = videos[1:]\n",
    "\n",
    "print(href)"
   ]
  },
  {
   "cell_type": "markdown",
   "id": "d1f890f2",
   "metadata": {},
   "source": [
    "### Get key of song"
   ]
  },
  {
   "cell_type": "code",
   "execution_count": null,
   "id": "92714f3f",
   "metadata": {},
   "outputs": [],
   "source": [
    "driver.get(\"https://tunebat.com\")\n",
    "time.sleep(10)\n",
    "\n",
    "# type song and artist into search bar\n",
    "search = driver.find_element(\n",
    "    By.XPATH,\n",
    "    \"//input[@aria-label='Song search field']\"\n",
    ")\n",
    "search.send_keys(f\"{song} {artist}\")\n",
    "\n",
    "time.sleep(1)\n",
    "\n",
    "# click search button\n",
    "button = driver.find_element(\n",
    "    By.XPATH,\n",
    "    \"//i[@aria-label='Search']\"\n",
    ")\n",
    "button.click()\n",
    "\n",
    "time.sleep(5)\n",
    "\n",
    "# get info on song\n",
    "song_info = driver.find_elements(\n",
    "    By.CLASS_NAME,\n",
    "    \"lAjUd\"\n",
    ")\n",
    "key, bpm = [item.text for item in song_info[:2]]\n",
    "print(key, bpm)"
   ]
  },
  {
   "cell_type": "markdown",
   "id": "f4ff0a9f",
   "metadata": {},
   "source": [
    "### Download YouTube video using youtube_dl"
   ]
  },
  {
   "cell_type": "code",
   "execution_count": null,
   "id": "9606276d",
   "metadata": {},
   "outputs": [],
   "source": [
    "kebab_artist = '-'.join(artist.split())\n",
    "kebab_song = '-'.join(song.split())\n",
    "dl_path = os.join(os.getcwd(),\n",
    "                  \"songs\",\n",
    "                  str(kebab_artist),\n",
    "                  str(kebab_song),\n",
    "                  str(key),\n",
    "                  str(bpm),\n",
    "                  \".mp3\"\n",
    "                 )\n",
    "\n",
    "with YoutubeDL({\n",
    "     'extract_audio': True,\n",
    "     'format': 'bestaudio',\n",
    "     'outtmpl': dl_path\n",
    "    }) as audio:\n",
    "    \n",
    "    audio.download(href)"
   ]
  },
  {
   "cell_type": "markdown",
   "id": "9ad04449",
   "metadata": {},
   "source": [
    "# Step 1.1: Convert to .m4a (.mp3 is incompatible with librosa)"
   ]
  },
  {
   "cell_type": "code",
   "execution_count": null,
   "id": "e7b28970",
   "metadata": {},
   "outputs": [],
   "source": [
    "# find which files did not convert to .m4a\n",
    "converted = {}\n",
    "need_to_convert = []\n",
    "\n",
    "for file in os.listdir(os.path.join(\"instrumentals\")):\n",
    "    if file[0] != \".\":\n",
    "        filename = file[:-4]\n",
    "        extension = file[-4:]\n",
    "        if filename not in converted:\n",
    "            converted.update({filename : [extension]})\n",
    "        else:\n",
    "            converted[filename].append(extension)\n",
    "            \n",
    "for key, value in converted.items():\n",
    "    if len(value) < 2:\n",
    "        print(f\"{key} did not convert\")\n",
    "        need_to_convert.append(key+value[0])"
   ]
  },
  {
   "cell_type": "code",
   "execution_count": null,
   "id": "cc4999aa",
   "metadata": {},
   "outputs": [],
   "source": [
    "# convert remaining files in \"/instrumentals\" to .m4a\n",
    "for file in need_to_convert:\n",
    "    filepath = os.path.join(os.getcwd(), \"instrumentals\", file)\n",
    "    os.system(f\"ffmpeg -i {filepath} -c:a aac -b:a 192k {filepath[:-4]}.m4a\")"
   ]
  },
  {
   "cell_type": "code",
   "execution_count": null,
   "id": "910a8ae6",
   "metadata": {},
   "outputs": [],
   "source": [
    "# convert all audio files in \"/songs\" from .mp3 to .m4a\n",
    "for file in os.listdir(os.path.join(\"songs\")):\n",
    "    if file[0] != \".\":\n",
    "        filepath = os.path.join(os.getcwd(), \"songs\", file)\n",
    "        os.system(f\"ffmpeg -nostats -loglevel panic -i {filepath} -c:a aac -b:a 192k {filepath[:-4]}.m4a\")"
   ]
  },
  {
   "cell_type": "code",
   "execution_count": null,
   "id": "b44e6e52",
   "metadata": {},
   "outputs": [],
   "source": [
    "# convert all audio files in \"/instrumentals\" from .mp3 to .m4a\n",
    "for file in os.listdir(os.path.join(\"instrumentals\")):\n",
    "    if file[0] != \".\":\n",
    "        filepath = os.path.join(os.getcwd(), \"instrumentals\", file)\n",
    "        os.system(f\"ffmpeg -nostats -loglevel panic -i {filepath} -c:a aac -b:a 192k {filepath[:-4]}.m4a\")"
   ]
  }
 ],
 "metadata": {
  "kernelspec": {
   "display_name": ".venv",
   "language": "python",
   "name": "python3"
  },
  "language_info": {
   "codemirror_mode": {
    "name": "ipython",
    "version": 3
   },
   "file_extension": ".py",
   "mimetype": "text/x-python",
   "name": "python",
   "nbconvert_exporter": "python",
   "pygments_lexer": "ipython3",
   "version": "3.11.5"
  }
 },
 "nbformat": 4,
 "nbformat_minor": 5
}
