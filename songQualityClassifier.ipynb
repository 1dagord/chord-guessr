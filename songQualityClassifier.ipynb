{
 "cells": [
  {
   "cell_type": "code",
   "execution_count": 1,
   "id": "4baf16ce",
   "metadata": {},
   "outputs": [],
   "source": [
    "from torch import nn\n",
    "import matplotlib.pyplot as plt\n",
    "import torch.multiprocessing\n",
    "import numpy as np\n",
    "import torch\n",
    "import pickle"
   ]
  },
  {
   "cell_type": "code",
   "execution_count": null,
   "id": "dc074c4a",
   "metadata": {},
   "outputs": [],
   "source": []
  },
  {
   "cell_type": "code",
   "execution_count": null,
   "id": "1430d690",
   "metadata": {},
   "outputs": [],
   "source": [
    "\"\"\"\n",
    "    To SAVE model after training, run following command:\n",
    "        pickle.dump(regressor, open('model.pkl','wb'))\n",
    "        \n",
    "    To LOAD model after pickling, run following command:\n",
    "        model = pickle.load(open('model.pkl','rb'))\n",
    "\"\"\""
   ]
  }
 ],
 "metadata": {
  "kernelspec": {
   "display_name": "Python 3 (ipykernel)",
   "language": "python",
   "name": "python3"
  },
  "language_info": {
   "codemirror_mode": {
    "name": "ipython",
    "version": 3
   },
   "file_extension": ".py",
   "mimetype": "text/x-python",
   "name": "python",
   "nbconvert_exporter": "python",
   "pygments_lexer": "ipython3",
   "version": "3.11.5"
  }
 },
 "nbformat": 4,
 "nbformat_minor": 5
}
