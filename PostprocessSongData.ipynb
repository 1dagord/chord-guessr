{
 "cells": [
  {
   "cell_type": "code",
   "execution_count": 1,
   "id": "1f31280c",
   "metadata": {},
   "outputs": [],
   "source": [
    "# imports\n",
    "from numpy.fft import fft, fftshift, fftfreq\n",
    "from collections import Counter, deque\n",
    "\n",
    "import matplotlib.pyplot as plt\n",
    "import numpy as np\n",
    "import subprocess\n",
    "import warnings\n",
    "import librosa\n",
    "import math\n",
    "import os\n",
    "\n",
    "warnings.filterwarnings(\n",
    "    \"ignore\",\n",
    "    message=\"PySoundFile failed\"\n",
    ")\n",
    "warnings.filterwarnings(\n",
    "    \"ignore\",\n",
    "    category=FutureWarning\n",
    ")"
   ]
  },
  {
   "cell_type": "code",
   "execution_count": 2,
   "id": "b8148f74",
   "metadata": {},
   "outputs": [],
   "source": [
    "def extractSongInfo(filename: str) -> list[str]:\n",
    "    \"\"\"\n",
    "        Splits filename up into useful info\n",
    "    \"\"\"\n",
    "    info = filename.split(\"_\")\n",
    "    info = [x.replace(\"-\", \" \").lower() for x in info]\n",
    "    \n",
    "    if len(info) == 4:\n",
    "        artist, song, key, bpm = info\n",
    "        bpm = bpm[:-4]\n",
    "    else:\n",
    "        artist, song, key, bpm, _ = info\n",
    "\n",
    "    item = (artist, song, key, bpm)\n",
    "    \n",
    "    return item"
   ]
  },
  {
   "cell_type": "markdown",
   "id": "960fb932",
   "metadata": {},
   "source": [
    "### Divide songs by key"
   ]
  },
  {
   "cell_type": "code",
   "execution_count": 3,
   "id": "b6aa54e5",
   "metadata": {},
   "outputs": [
    {
     "name": "stdout",
     "output_type": "stream",
     "text": [
      "65 35\n",
      "100\n"
     ]
    }
   ],
   "source": [
    "# read in audio data and store in a dictionary\n",
    "major_songs = []\n",
    "minor_songs = []\n",
    "audio_data = {}\n",
    "\n",
    "folder = \"songs\"\n",
    "\n",
    "for file in os.listdir(os.path.join(folder)):\n",
    "    if file[0] != \".\":\n",
    "        \n",
    "        item = extractSongInfo(file)\n",
    "        _, _, key, _ = item\n",
    "        \n",
    "        # librosa does not work well with .mp3 files\n",
    "        audio, sample_rate = librosa.load(os.path.join(os.getcwd(), folder, file))\n",
    "        \n",
    "        # get length of audio file\n",
    "        command = \"ffprobe -v error -show_entries format=duration -of default=noprint_wrappers=1:nokey=1 \"\n",
    "        command += f\"{os.path.join(os.getcwd(), folder, file)}\"\n",
    "        \n",
    "        length = subprocess.run(\n",
    "            command.split(),\n",
    "            stdout=subprocess.PIPE\n",
    "        )\n",
    "        \n",
    "        # truncate to 2 decimals\n",
    "        numSeconds = float(length.stdout)\n",
    "        numSeconds = \"{:.{}f}\".format(numSeconds, 2)\n",
    "        \n",
    "        # hashes audio data\n",
    "        audio_data.update({\n",
    "            '_'.join(item) : (audio, float(numSeconds))\n",
    "        })\n",
    "        \n",
    "        # store song based on quality of key\n",
    "        if key.find(\"major\") != -1:\n",
    "            major_songs.append(item)\n",
    "        else:\n",
    "            minor_songs.append(item)\n",
    "\n",
    "major_songs.sort(key=lambda x: x[2])\n",
    "minor_songs.sort(key=lambda x: x[2])\n",
    "\n",
    "print(len(major_songs), len(minor_songs))\n",
    "print(len(audio_data))"
   ]
  },
  {
   "cell_type": "code",
   "execution_count": 4,
   "id": "56f60c4a",
   "metadata": {},
   "outputs": [
    {
     "name": "stdout",
     "output_type": "stream",
     "text": [
      "100\n"
     ]
    }
   ],
   "source": [
    "# read in instrumental data and store in a dictionary\n",
    "instrumental_data = {}\n",
    "\n",
    "folder = \"instrumentals\"\n",
    "\n",
    "for file in os.listdir(os.path.join(folder)):\n",
    "    if file[0] != \".\":\n",
    "        \n",
    "        item = extractSongInfo(file)\n",
    "        artist, song, key, bpm = item\n",
    "        \n",
    "        info = (artist, song, key, bpm)\n",
    "        \n",
    "        # librosa does not work well with .mp3 files\n",
    "        audio, sample_rate = librosa.load(os.path.join(os.getcwd(), folder, file))\n",
    "        \n",
    "        # get length of audio file\n",
    "        command = \"ffprobe -v error -show_entries format=duration -of default=noprint_wrappers=1:nokey=1 \"\n",
    "        command += f\"{os.path.join(os.getcwd(), folder, file)}\"\n",
    "        \n",
    "        length = subprocess.run(\n",
    "            command.split(),\n",
    "            stdout=subprocess.PIPE\n",
    "        )\n",
    "        \n",
    "        # truncate to 2 decimals\n",
    "        numSeconds = float(length.stdout)\n",
    "        numSeconds = \"{:.{}f}\".format(numSeconds, 2)\n",
    "        \n",
    "        # hashes audio data\n",
    "        instrumental_data.update({\n",
    "            '_'.join(info) : (audio, float(numSeconds))\n",
    "        })\n",
    "        \n",
    "print(len(instrumental_data))"
   ]
  },
  {
   "cell_type": "markdown",
   "id": "10267acb",
   "metadata": {},
   "source": [
    "## Get Song to Test"
   ]
  },
  {
   "cell_type": "code",
   "execution_count": 154,
   "id": "6334b191",
   "metadata": {},
   "outputs": [
    {
     "name": "stdout",
     "output_type": "stream",
     "text": [
      "bee gees_how deep is your love_f minor_105\n",
      "Samples per second: 22049.913544668587\n",
      "Song is 260.25 long\n"
     ]
    },
    {
     "data": {
      "image/png": "[encoded data removed]",
      "text/plain": [
       "<Figure size 640x480 with 1 Axes>"
      ]
     },
     "metadata": {},
     "output_type": "display_data"
    }
   ],
   "source": [
    "# test data reads\n",
    "\n",
    "ind = list(instrumental_data.keys())[0]\n",
    "samples, seconds = instrumental_data[ind]\n",
    "\n",
    "print(ind)\n",
    "print(\"Samples per second:\", (int(samples.shape[0]))/seconds)\n",
    "print(f\"Song is {seconds} long\")\n",
    "plt.plot(samples)\n",
    "plt.show()"
   ]
  },
  {
   "cell_type": "markdown",
   "id": "3789740d",
   "metadata": {},
   "source": [
    "## Planning: How to Get Key of Song from Data\n",
    "\n",
    "Idea 1: divide song into multiple overlapping chunks and perform FFT on all of them \\\n",
    ">       0:00 |--------|   |--------|   |--------| 4:23\n",
    "                   |--------|   |--------|\n",
    "                   \n",
    "        - make length of window a function of bpm and length of song"
   ]
  },
  {
   "cell_type": "code",
   "execution_count": 6,
   "id": "c0c4f1e8",
   "metadata": {},
   "outputs": [
    {
     "name": "stdout",
     "output_type": "stream",
     "text": [
      "Average BPM: 119.01\n"
     ]
    }
   ],
   "source": [
    "# get average bpm\n",
    "avg_bpm = 0\n",
    "for song in audio_data:\n",
    "    _, _, _, bpm = song.split(\"_\")\n",
    "    avg_bpm += int(bpm)\n",
    "    \n",
    "avg_bpm /= len(audio_data)\n",
    "print(f\"Average BPM: {avg_bpm}\")"
   ]
  },
  {
   "cell_type": "code",
   "execution_count": 7,
   "id": "ec515b96",
   "metadata": {},
   "outputs": [
    {
     "name": "stdout",
     "output_type": "stream",
     "text": [
      "Minimum song length: 135.0\n"
     ]
    }
   ],
   "source": [
    "# get minimum song length\n",
    "min_song_length = 2**16\n",
    "for _, secs in audio_data.values():\n",
    "    min_song_length = min(min_song_length, secs)\n",
    "print(f\"Minimum song length: {min_song_length}\")"
   ]
  },
  {
   "cell_type": "code",
   "execution_count": 8,
   "id": "bd537eb1",
   "metadata": {},
   "outputs": [
    {
     "name": "stdout",
     "output_type": "stream",
     "text": [
      "Average Song Length:\t\t237.62 seconds\n",
      "Average Instrumental Length:\t248.6 seconds\n"
     ]
    }
   ],
   "source": [
    "# get average length (in seconds)\n",
    "avg_song_secs = 0\n",
    "avg_instr_secs = 0\n",
    "\n",
    "for _, secs in audio_data.values():\n",
    "    avg_song_secs += secs\n",
    "for _, secs in instrumental_data.values():\n",
    "    avg_instr_secs += secs\n",
    "    \n",
    "avg_song_secs /= len(audio_data)\n",
    "avg_instr_secs /= len(audio_data)\n",
    "\n",
    "avg_song_secs = round(avg_song_secs, 2)\n",
    "avg_instr_secs = round(avg_instr_secs, 2)\n",
    "print(f\"Average Song Length:\\t\\t{avg_song_secs} seconds\")\n",
    "print(f\"Average Instrumental Length:\\t{avg_instr_secs} seconds\")"
   ]
  },
  {
   "cell_type": "code",
   "execution_count": 9,
   "id": "ea48a8c6",
   "metadata": {},
   "outputs": [
    {
     "name": "stdout",
     "output_type": "stream",
     "text": [
      "4.0 8.599999999999994\n"
     ]
    }
   ],
   "source": [
    "# prints avg song length in minutes and seconds\n",
    "print(avg_instr_secs//60, avg_instr_secs%60)"
   ]
  },
  {
   "cell_type": "code",
   "execution_count": 10,
   "id": "63c3f324",
   "metadata": {},
   "outputs": [
    {
     "name": "stdout",
     "output_type": "stream",
     "text": [
      "Seconds in 16 bars: 32.27\n"
     ]
    }
   ],
   "source": [
    "\"\"\"\n",
    "    For each window to contain 16 bars,\n",
    "    seconds_per_beat = (1/bpm)*(60)\n",
    "    window_width = 16*4*seconds_per_beat\n",
    "    \n",
    "    plan for 4 max modulations\n",
    "\"\"\"\n",
    "sixteen_bars = round(16*4*(60/avg_bpm), 2)\n",
    "print(f\"Seconds in 16 bars: {sixteen_bars}\")\n"
   ]
  },
  {
   "cell_type": "code",
   "execution_count": 6,
   "id": "743dcaa4",
   "metadata": {},
   "outputs": [],
   "source": [
    "def get_window_length(song_len: float) -> int:\n",
    "    \"\"\"\n",
    "        Clamps window length between 15 and 45 seconds\n",
    "        15 seconds for songs <= 2:, 45 seconds for songs >= 6 mins\n",
    "        \n",
    "        :return: window length in seconds\n",
    "    \"\"\"\n",
    "    song_len = min(max(song_len, 15*8), 45*8)\n",
    "    return int(song_len//8)"
   ]
  },
  {
   "cell_type": "code",
   "execution_count": 7,
   "id": "21390682",
   "metadata": {},
   "outputs": [
    {
     "data": {
      "image/png": "[encoded data removed]",
      "text/plain": [
       "<Figure size 640x480 with 1 Axes>"
      ]
     },
     "metadata": {},
     "output_type": "display_data"
    }
   ],
   "source": [
    "# test get_window_length(...)\n",
    "x = [i for i in range(100, 380)]\n",
    "y = [get_window_length(i) for i in x]\n",
    "plt.plot(x, y)\n",
    "plt.show()"
   ]
  },
  {
   "cell_type": "code",
   "execution_count": 7,
   "id": "b6f62a78",
   "metadata": {},
   "outputs": [],
   "source": [
    "def get_samp_per_sec(song_len: float, num_samples: int) -> float:\n",
    "    \"\"\"\n",
    "        Returns number of samples per second\n",
    "        \n",
    "        May not be in use any longer\n",
    "    \"\"\"\n",
    "    if isinstance(num_samples, tuple):\n",
    "        num_samples = num_samples[0]\n",
    "    samp_per_sec = num_samples/song_len\n",
    "    return samp_per_sec"
   ]
  },
  {
   "cell_type": "code",
   "execution_count": 86,
   "id": "9532a24d",
   "metadata": {},
   "outputs": [
    {
     "name": "stdout",
     "output_type": "stream",
     "text": [
      "Samples per second: 22049.605805411215\n"
     ]
    }
   ],
   "source": [
    "print(\"Samples per second:\", get_samp_per_sec(seconds, samples.shape))"
   ]
  },
  {
   "cell_type": "code",
   "execution_count": 185,
   "id": "f57dd2f5",
   "metadata": {},
   "outputs": [],
   "source": [
    "def create_snippets(song: list[float], song_len: float) -> list[list[float]]:\n",
    "    \"\"\"\n",
    "        Creates 2D numpy array of form:\n",
    "            snippets[num_snippet][sample_index_in_snippet]\n",
    "            \n",
    "        Windows/snippets overlap at midpoint\n",
    "        \n",
    "        :song: raw audio data\n",
    "        :song_len: length of the song in seconds\n",
    "        \n",
    "        :return snippets: list of windows of samples\n",
    "                         each sample has format:\n",
    "                         (seconds since start, audio data)\n",
    "        :return start_times: list of start_times of each\n",
    "                             window in seconds past since\n",
    "                             song start\n",
    "                 \n",
    "    \"\"\"\n",
    "    snippets = np.array([])\n",
    "    start_times = np.array([])\n",
    "    \n",
    "    mult = int(get_samp_per_sec(song_len, song.shape[0])) # try replacing with 44100\n",
    "    win_len = mult*get_window_length(song_len)\n",
    "    \n",
    "    win_start = 0\n",
    "    while win_start < song.shape[0]:\n",
    "        part = song[win_start:win_start + win_len]\n",
    "        if part.shape[0] < win_len:\n",
    "            part = np.pad(part, (0, win_len - part.shape[0]))\n",
    "            \n",
    "        start_times = np.append(start_times, win_start/mult)\n",
    "        snippets = np.vstack((snippets, part)) if snippets.size else part\n",
    "        win_start += win_len//2\n",
    "        \n",
    "    return snippets, start_times"
   ]
  },
  {
   "cell_type": "code",
   "execution_count": 109,
   "id": "d7a9ca56",
   "metadata": {},
   "outputs": [],
   "source": [
    "# get windows from song\n",
    "windows, start_times = create_snippets(samples, seconds)"
   ]
  },
  {
   "cell_type": "code",
   "execution_count": 110,
   "id": "0f6e6932",
   "metadata": {},
   "outputs": [
    {
     "name": "stdout",
     "output_type": "stream",
     "text": [
      "Window Shape: (9, 1190700)\n"
     ]
    },
    {
     "data": {
      "image/png": "[encoded data removed]",
      "text/plain": [
       "<Figure size 640x480 with 1 Axes>"
      ]
     },
     "metadata": {},
     "output_type": "display_data"
    }
   ],
   "source": [
    "win_num = 3\n",
    "\n",
    "print(\"Window Shape:\", windows.shape)\n",
    "\n",
    "plt.plot(windows[win_num])\n",
    "plt.title(f\"Window #{win_num} starting at {start_times[win_num]} seconds\")\n",
    "plt.show()\n",
    "plt.close()"
   ]
  },
  {
   "cell_type": "markdown",
   "id": "40fb519b",
   "metadata": {},
   "source": [
    "## Goal: Obtain most prevalent frequencies in a window and find closest"
   ]
  },
  {
   "cell_type": "markdown",
   "id": "b2e389a6",
   "metadata": {},
   "source": [
    "### FFT Testing"
   ]
  },
  {
   "cell_type": "code",
   "execution_count": 293,
   "id": "3f223d53",
   "metadata": {},
   "outputs": [
    {
     "name": "stdout",
     "output_type": "stream",
     "text": [
      "[ 27. 300.  10.]\n",
      "[ 27. 300.  10.]\n"
     ]
    },
    {
     "data": {
      "image/png": "[encoded data removed]",
      "text/plain": [
       "<Figure size 640x480 with 1 Axes>"
      ]
     },
     "metadata": {},
     "output_type": "display_data"
    }
   ],
   "source": [
    "# FFT test\n",
    "def f(x):\n",
    "    return (\n",
    "        np.cos(2 * np.pi * 300 * x) + \n",
    "        np.cos(2 * np.pi * 27 * x) +\n",
    "        np.cos(2 * np.pi * 10 * x)\n",
    "    )\n",
    "\n",
    "def F(x):\n",
    "    return fftshift(fft(x))\n",
    "\n",
    "\n",
    "x = np.arange(0, 10, 1/1000)\n",
    "    \n",
    "output = F(f(x))\n",
    "\n",
    "N = len(output)\n",
    "freqs = fftshift(fftfreq(N, 1/1000))\n",
    "\n",
    "midpoint = output.shape[0]//2\n",
    "\n",
    "# positive values only\n",
    "pos_freqs = freqs[midpoint:]\n",
    "pos_output = output[midpoint:]\n",
    "\n",
    "# get top 3 frequencies\n",
    "ind = np.argpartition(pos_output, -3)[-3:]\n",
    "print(np.abs(pos_freqs[ind]))\n",
    "\n",
    "plt.plot(pos_freqs, np.abs(pos_output))\n",
    "plt.title(f\"Peak Freq: {pos_freqs[np.argmax(pos_output)]}\")\n",
    "plt.show()\n",
    "plt.close()"
   ]
  },
  {
   "cell_type": "markdown",
   "id": "4682d936",
   "metadata": {},
   "source": [
    "### Get & Plot FFT Data"
   ]
  },
  {
   "cell_type": "code",
   "execution_count": 206,
   "id": "f1b2e9c3",
   "metadata": {},
   "outputs": [],
   "source": [
    "def get_fftdata_from_window(window: np.array, verbose=False) -> list[np.array, np.array, float]:\n",
    "    \"\"\"\n",
    "        Performs FFT on a window/snippet\n",
    "        \n",
    "        :param window: sample data from a snippet\n",
    "                       of a song\n",
    "        :param verbose: if True, plots FFT data\n",
    "        \n",
    "        :return samps_fft: raw FFT output\n",
    "        :return samps_freqs: array of frequencies\n",
    "                             for indexing `samps_fft`\n",
    "        :return fs: sampling frequency\n",
    "    \"\"\"\n",
    "    samps = window\n",
    "\n",
    "    t0 = 0\n",
    "    t_max = get_window_length(seconds)\n",
    "    fs = get_samp_per_sec(t_max, samps.shape) # try replacing with 44100\n",
    "\n",
    "    t = np.arange(t0, t_max, 1/fs)\n",
    "\n",
    "    samps_fft = fftshift(fft(samps))\n",
    "    samps_freqs = fftshift(fftfreq(len(t), 1/fs))\n",
    "    \n",
    "    if verbose:\n",
    "        plt.plot(samps_freqs, np.abs(samps_fft))\n",
    "        plt.xlabel(\"Frequency (Hz)\")\n",
    "        plt.ylabel(\"Amplitude\")\n",
    "        plt.xlim(-4000, 4000)\n",
    "        plt.show()\n",
    "        plt.close()\n",
    "    \n",
    "    return samps_fft, samps_freqs, fs"
   ]
  },
  {
   "cell_type": "code",
   "execution_count": 164,
   "id": "459b3f1a",
   "metadata": {},
   "outputs": [
    {
     "data": {
      "image/png": "[encoded data removed]",
      "text/plain": [
       "<Figure size 640x480 with 1 Axes>"
      ]
     },
     "metadata": {},
     "output_type": "display_data"
    }
   ],
   "source": [
    "samps_fft, samps_freqs, fs = get_fftdata_from_window(windows[win_num], verbose=True)"
   ]
  },
  {
   "cell_type": "code",
   "execution_count": 195,
   "id": "9c7ac8cc",
   "metadata": {},
   "outputs": [],
   "source": [
    "def get_top_k_freqs(fft_data: np.array, fs: int, k: int, verbose=False) -> np.array:\n",
    "    \"\"\"\n",
    "        Gets top k most prevalent frequencies in order of prevalence\n",
    "        \n",
    "        :param fft_data: output of fftshift(fft(...))\n",
    "        :param fs: sampling frequency\n",
    "        :param k: return value contains \n",
    "                  k maximum values\n",
    "        :param verbose: if True, prints frequencies\n",
    "                  \n",
    "        :return: k-value array of highest\n",
    "                 frequencies in fft_data\n",
    "    \"\"\"\n",
    "    N = fft_data.shape[0]\n",
    "    freqs = fftshift(fftfreq(N, 1/fs))\n",
    "\n",
    "    # positive values only\n",
    "    pos_freqs = freqs[N//2:]\n",
    "    pos_fft_data = fft_data[N//2:]\n",
    "    pos_fft_data = np.abs(pos_fft_data)\n",
    "\n",
    "    # get top k frequencies\n",
    "    ind = np.argpartition(pos_fft_data, -k)[-k:]\n",
    "    most_prev = pos_freqs[ind]\n",
    "    \n",
    "    # truncate to 5 decimal places\n",
    "    most_prev = np.around(most_prev, 5)\n",
    "    \n",
    "    if verbose:\n",
    "        print(most_prev)\n",
    "    \n",
    "    return most_prev"
   ]
  },
  {
   "cell_type": "code",
   "execution_count": 113,
   "id": "5207de32",
   "metadata": {},
   "outputs": [],
   "source": [
    "def transpose_freq(freq: float) -> float:\n",
    "    \"\"\"\n",
    "        Transposes frequencies to fit within one octave\n",
    "        \n",
    "        :param freq: frequency value\n",
    "\n",
    "        :return: transposed frequency\n",
    "                 value in octave 4\n",
    "    \"\"\"\n",
    "    c4_freq = 261.6256\n",
    "    c5_freq = 523.2511\n",
    "    while not (c4_freq <= freq <= c5_freq):\n",
    "        if freq > c5_freq:\n",
    "            freq /= 2\n",
    "        if freq < c4_freq:\n",
    "            freq *= 2\n",
    "            \n",
    "    return freq"
   ]
  },
  {
   "cell_type": "code",
   "execution_count": 114,
   "id": "186f725b",
   "metadata": {},
   "outputs": [
    {
     "name": "stdout",
     "output_type": "stream",
     "text": [
      "392.48484848\n"
     ]
    }
   ],
   "source": [
    "print(transpose_freq(98.12121212))"
   ]
  },
  {
   "cell_type": "markdown",
   "id": "684bee53",
   "metadata": {},
   "source": [
    "### Get Most Prevalent Frequencies"
   ]
  },
  {
   "cell_type": "code",
   "execution_count": 76,
   "id": "12318130",
   "metadata": {},
   "outputs": [],
   "source": [
    "# define pitches in octave 4\n",
    "pitch_to_freq_4 = {\n",
    "    \"C\" : 261.6256,\n",
    "    \"C#\" : 277.1826,\n",
    "    \"Db\" : 277.1826,\n",
    "    \"D\" : 293.6648,\n",
    "    \"D#\" : 311.1270,\n",
    "    \"Eb\" : 311.1270,\n",
    "    \"E\" : 329.6276,\n",
    "    \"F\" : 349.2282,\n",
    "    \"F#\" : 369.9944,\n",
    "    \"Gb\" : 369.9944,\n",
    "    \"G\" : 391.9954,\n",
    "    \"G#\" : 415.3047,\n",
    "    \"Ab\" : 415.3047,\n",
    "    \"A\" : 440.0000,\n",
    "    \"A#\" : 466.1638,\n",
    "    \"Bb\": 466.1638,\n",
    "    \"B\" : 493.8833\n",
    "}\n",
    "\n",
    "freq_to_pitch_4 = {value : key for key, value in pitch_to_freq_4.items()}"
   ]
  },
  {
   "cell_type": "code",
   "execution_count": 123,
   "id": "b8e237cf",
   "metadata": {},
   "outputs": [
    {
     "name": "stdout",
     "output_type": "stream",
     "text": [
      "Top 12 frequencies:\n",
      "[138.07407407 137.37037037 104.11111111 123.18518519 104.59259259\n",
      " 119.44444444 130.66666667 136.96296296 141.85185185 104.51851852\n",
      " 145.59259259 138.11111111]\n"
     ]
    }
   ],
   "source": [
    "# get k most prevalent frequencies\n",
    "k = 12\n",
    "\n",
    "# before transposing\n",
    "most_prev = get_top_k_freqs(samps_fft, fs, k) # replace 44100 with fs if broken\n",
    "\n",
    "# after transposing\n",
    "# most_prev = np.array([transpose_freq(x) for x in most_prev])\n",
    "\n",
    "print(f\"Top {k} frequencies:\\n{most_prev}\")"
   ]
  },
  {
   "cell_type": "code",
   "execution_count": 14,
   "id": "f5058d1b",
   "metadata": {},
   "outputs": [
    {
     "name": "stdout",
     "output_type": "stream",
     "text": [
      "[('C0', 16.351597831287414), ('C1', 32.70319566257483), ('C2', 65.40639132514966), ('C3', 130.8127826502993), ('C4', 261.6255653005986), ('C5', 523.2511306011972), ('C6', 1046.5022612023945), ('C7', 2093.004522404789), ('C8', 4186.009044809578), ('C9', 8372.018089619156), ('C10', 16744.036179238312)]\n"
     ]
    }
   ],
   "source": [
    "# stores pitches from C0 to A10\n",
    "\n",
    "AFreq = 440\n",
    "exponent = -5\n",
    "pitchClasses = {}\n",
    "# no flats/sharps between BC and EF\n",
    "keys = ['A', ('A#','Bb'), 'B', 'C', ('C#','Db'), 'D', ('D#','Eb'), 'E', 'F', ('F#','Gb'), 'G', ('G#','Ab')]\n",
    "\n",
    "while AFreq*math.pow(2,exponent) < 20000:\n",
    "    freqA = AFreq*math.pow(2,exponent)\n",
    "    for num in range(12):\n",
    "        octave = 4+exponent\n",
    "        if isinstance(keys[num], tuple):\n",
    "            if keys[num][0] >= 'C':\n",
    "                octave += 1\n",
    "            pitchClasses.update({keys[num][0]+str(octave) : freqA*math.pow(2, num/12)})\n",
    "            pitchClasses.update({keys[num][1]+str(octave) : freqA*math.pow(2, num/12)})\n",
    "        else:\n",
    "            if keys[num] >= 'C':\n",
    "                octave += 1\n",
    "            pitchClasses.update({keys[num]+str(octave) : freqA*math.pow(2, num/12)})\n",
    "    exponent += 1\n",
    "    \n",
    "# delete pitches before octave 0\n",
    "for _ in range(4):\n",
    "    del pitchClasses[list(pitchClasses.keys())[0]]\n",
    "    \n",
    "# prints all octaves for a pitch class\n",
    "print(list(pitchClasses.items())[::17])"
   ]
  },
  {
   "cell_type": "code",
   "execution_count": 15,
   "id": "9e3fbf92",
   "metadata": {},
   "outputs": [],
   "source": [
    "def get_octave(freq: float) -> int:\n",
    "    \"\"\"\n",
    "        Returns octave number of given frequency\n",
    "        \n",
    "        :param freq: frequency value\n",
    "        \n",
    "        :return: octave number or None if\n",
    "                 beyond octave ranges\n",
    "    \"\"\"\n",
    "    # octave numbers of all Cs\n",
    "    c_freqs = {\n",
    "        0 : 16.35160,\n",
    "        1 : 32.70320,\n",
    "        2 : 65.40639,\n",
    "        3 : 130.8128,\n",
    "        4 : 261.6256,\n",
    "        5 : 523.2511,\n",
    "        6 : 1046.502,\n",
    "        7 : 2093.005,\n",
    "        8 : 4186.009,\n",
    "        9 : 8372.018,\n",
    "        10: 16744.04\n",
    "    }\n",
    "    \n",
    "    for oc, fr in c_freqs.items():\n",
    "        if fr > freq:\n",
    "            return oc - 1\n",
    "        \n",
    "    return None"
   ]
  },
  {
   "cell_type": "code",
   "execution_count": 116,
   "id": "f2d5d44d",
   "metadata": {
    "scrolled": true
   },
   "outputs": [
    {
     "name": "stdout",
     "output_type": "stream",
     "text": [
      "3\n"
     ]
    }
   ],
   "source": [
    "# test get_octave(...)\n",
    "print(get_octave(most_prev[0]))"
   ]
  },
  {
   "cell_type": "code",
   "execution_count": 16,
   "id": "f49a54c6",
   "metadata": {},
   "outputs": [],
   "source": [
    "def get_freqs_in_class(pc: str) -> np.array:\n",
    "    \"\"\"\n",
    "        Returns list of frequencies in given pitch class\n",
    "        \n",
    "        :param pc: name of pitch class\n",
    "        \n",
    "        :return: 11-value array of all\n",
    "                 frequencies from octaves\n",
    "                 0 to 10 for given pitch\n",
    "    \"\"\"\n",
    "    pc = pc[0].upper() + pc[1:]\n",
    "    return np.array([\n",
    "        pitchClasses[x]\n",
    "        for x in pitchClasses\n",
    "        if x[:len(pc)] == pc\n",
    "    ])"
   ]
  },
  {
   "cell_type": "code",
   "execution_count": 117,
   "id": "0003e9db",
   "metadata": {},
   "outputs": [
    {
     "name": "stdout",
     "output_type": "stream",
     "text": [
      "[1.73239144e+01 3.46478289e+01 6.92956577e+01 1.38591315e+02\n",
      " 2.77182631e+02 5.54365262e+02 1.10873052e+03 2.21746105e+03\n",
      " 4.43492210e+03 8.86984419e+03 1.77396884e+04]\n"
     ]
    }
   ],
   "source": [
    "# test get_freqs_in_class(...)\n",
    "print(get_freqs_in_class(\"c#\"))"
   ]
  },
  {
   "cell_type": "code",
   "execution_count": 17,
   "id": "f1284ba9",
   "metadata": {},
   "outputs": [],
   "source": [
    "def get_freqs_in_octave(freq: float) -> np.array:\n",
    "    \"\"\"\n",
    "        Returns all pitches in octave of freq\n",
    "        \n",
    "        :param freq: frequency value\n",
    "        \n",
    "        :return: 17-value array of all frequencies in\n",
    "                 same octave as freq\n",
    "    \"\"\"\n",
    "    oc = get_octave(freq)\n",
    "    return np.array([\n",
    "        pitchClasses[x]\n",
    "        for x in pitchClasses\n",
    "        if ''.join(c for c in x\n",
    "                   if c.isdigit()) == str(oc)\n",
    "    ])"
   ]
  },
  {
   "cell_type": "code",
   "execution_count": 118,
   "id": "7c5f155b",
   "metadata": {},
   "outputs": [
    {
     "name": "stdout",
     "output_type": "stream",
     "text": [
      "[130.81278265 138.59131549 138.59131549 146.83238396 155.56349186\n",
      " 155.56349186 164.81377846 174.61411572 184.99721136 184.99721136\n",
      " 195.99771799 207.65234879 207.65234879 220.         233.08188076\n",
      " 233.08188076 246.94165063]\n"
     ]
    }
   ],
   "source": [
    "# test get_freqs_in_octave(...)\n",
    "print(get_freqs_in_octave(most_prev[1]))"
   ]
  },
  {
   "cell_type": "code",
   "execution_count": 18,
   "id": "887b9124",
   "metadata": {},
   "outputs": [],
   "source": [
    "def broadcast_down(freq_arr: np.array) -> np.array:\n",
    "    \"\"\"\n",
    "        Resizes array from 17 pitches to 12\n",
    "        to account for enharmonicity\n",
    "        \n",
    "        Will NOT contain duplicates\n",
    "    \"\"\"\n",
    "    if len(freq_arr) == 12:\n",
    "        return freq_arr\n",
    "    \n",
    "    res = []\n",
    "    visited = set()\n",
    "    \n",
    "    for val in freq_arr:\n",
    "        if val not in visited:\n",
    "            visited.add(val)\n",
    "            res.append(val)\n",
    "        \n",
    "    return np.array(res)\n",
    "\n",
    "\n",
    "def broadcast_up(freq_arr: np.array) -> np.array:\n",
    "    \"\"\"\n",
    "        Resizes array from 12 pitches to 17\n",
    "        to account for enharmonicity\n",
    "        \n",
    "        Will contain duplicates\n",
    "        \n",
    "        **DOES NOT RETAIN ORDER**\n",
    "    \"\"\"\n",
    "    if len(freq_arr) == 17:\n",
    "        return freq_arr\n",
    "    \n",
    "    res = np.array([None]*17)\n",
    "    enharm = [1, 4, 6, 9, 11]\n",
    "    extra_i = 0\n",
    "    \n",
    "    for i in range(12):\n",
    "        if i in enharm:\n",
    "            res[i+extra_i] = freq_arr[i]\n",
    "            extra_i += 1\n",
    "        res[i+extra_i] = freq_arr[i]\n",
    "        \n",
    "    return res"
   ]
  },
  {
   "cell_type": "code",
   "execution_count": 134,
   "id": "679a7202",
   "metadata": {},
   "outputs": [],
   "source": [
    "def get_closest_pitch(freq: float) -> str:\n",
    "    \"\"\"\n",
    "        Returns closest pitch for given frequency\n",
    "        \n",
    "        :param freq: frequency value\n",
    "        \n",
    "        :return: string containing pitch\n",
    "                 class and octave number\n",
    "    \"\"\"\n",
    "    oc_freqs = get_freqs_in_octave(freq)\n",
    "    if oc_freqs.size == 0:\n",
    "        oc_freqs = get_freqs_in_octave(transpose_freq(freq))\n",
    "        \n",
    "    oc_freqs -= freq\n",
    "    oc_freqs = np.abs(oc_freqs)\n",
    "    ind = np.argmin(oc_freqs) # index of closest\n",
    "    closest_pc = list(pitch_to_freq_4)[ind]\n",
    "    closest_oc = str(get_octave(freq))\n",
    "    return closest_pc + closest_oc "
   ]
  },
  {
   "cell_type": "code",
   "execution_count": 119,
   "id": "8352906f",
   "metadata": {},
   "outputs": [
    {
     "name": "stdout",
     "output_type": "stream",
     "text": [
      "C#3\n"
     ]
    }
   ],
   "source": [
    "# test get_closest_pitch(...)\n",
    "print(get_closest_pitch(most_prev[0]))"
   ]
  },
  {
   "cell_type": "markdown",
   "id": "157ea32b",
   "metadata": {},
   "source": [
    "### Find Closest Pitches from Given Window"
   ]
  },
  {
   "cell_type": "code",
   "execution_count": 120,
   "id": "ee2e4ab0",
   "metadata": {},
   "outputs": [
    {
     "data": {
      "image/png": "[encoded data removed]",
      "text/plain": [
       "<Figure size 640x480 with 1 Axes>"
      ]
     },
     "metadata": {},
     "output_type": "display_data"
    }
   ],
   "source": [
    "# print prevalence of pitches relative to prevalence number prev_num\n",
    "\n",
    "# prevalence number; 0 is highest\n",
    "prev_num = 0\n",
    "\n",
    "# stores frequencies in scale of most_prev[prev_num]\n",
    "curr_freqs = get_freqs_in_octave(most_prev[prev_num])\n",
    "freqs_dist = curr_freqs - most_prev[prev_num]\n",
    "\n",
    "ptf4 = list(pitch_to_freq_4)\n",
    "\n",
    "plt.stem(list(ptf4), freqs_dist)\n",
    "plt.xticks(rotation=45)\n",
    "plt.xlabel(\"Pitch\")\n",
    "plt.ylabel(\"Distance in Frequency (Hz)\")\n",
    "plt.title(f\"Distance to Frequency of Prevalence {prev_num} in Window #{win_num}\")\n",
    "plt.show()\n",
    "plt.close()"
   ]
  },
  {
   "cell_type": "code",
   "execution_count": 166,
   "id": "2009ccef",
   "metadata": {},
   "outputs": [],
   "source": [
    "def get_pitch_counts(most_prev: np.array, verbose=False) -> Counter:\n",
    "    \"\"\"\n",
    "        Gets Counter of most prevalent pitch classes\n",
    "        \n",
    "        :param most_prev: NP array of most\n",
    "                          prevalent pitches\n",
    "                          \n",
    "        :return: Counter of most prevalent\n",
    "                 pitch classes\n",
    "    \"\"\"\n",
    "    # get closest pitch for each prevalent frequency\n",
    "    closest_pitches = np.array([get_closest_pitch(x) for x in most_prev])\n",
    "\n",
    "    # remove octave number\n",
    "    for i, _ in enumerate(closest_pitches):\n",
    "        while not closest_pitches[i][-1].isalpha():\n",
    "            closest_pitches[i] = closest_pitches[i][:-1]\n",
    "            \n",
    "    counter = Counter(closest_pitches)\n",
    "            \n",
    "    if verbose:\n",
    "        pitches = [pair[0] for pair in counter.items()]\n",
    "        counts = [pair[1] for pair in counter.items()]\n",
    "\n",
    "        plt.stem(pitches, counts)\n",
    "        plt.show()\n",
    "        plt.close()\n",
    "\n",
    "    return counter"
   ]
  },
  {
   "cell_type": "code",
   "execution_count": 167,
   "id": "8637a5a9",
   "metadata": {},
   "outputs": [],
   "source": [
    "def get_pitch_vector(most_prev: np.array, verbose=False) -> np.array:\n",
    "    \"\"\"\n",
    "        Returns vector of pitch counts indexed\n",
    "        by semitone distance to C\n",
    "        \n",
    "        e.g.: C -> index 0\n",
    "              G -> index 7\n",
    "              \n",
    "        :param most_prev: NP array of most\n",
    "                          prevalent pitches\n",
    "                          \n",
    "        :return: 12-value vector of most\n",
    "                 prevalent pitch counts\n",
    "                 indexed at C\n",
    "    \"\"\"\n",
    "    pitch_vec = np.array([0]*12)\n",
    "    pitch_names = [\"C\", \"C#/Db\", \"D\", \"D#/Eb\",\"E\",\n",
    "                   \"F\", \"F#/Gb\", \"G\", \"G#/Ab\", \"A\",\n",
    "                   \"A#/Bb\", \"B\"]\n",
    "    pitch_names_dict = {\n",
    "        pitch_names[i] : i\n",
    "        for i in range(len(pitch_names))\n",
    "    }\n",
    "    enharm_names_dict = {\n",
    "        \"C#\" : 1, \"Db\" : 1,\n",
    "        \"D#\" : 3, \"Eb\" : 3,\n",
    "        \"F#\" : 6, \"Gb\" : 6,\n",
    "        \"G#\" : 8, \"Ab\" : 8,\n",
    "        \"A#\" : 10, \"Bb\" : 10\n",
    "    }\n",
    "    \n",
    "    pitch_counts = get_pitch_counts(most_prev)\n",
    "\n",
    "    for pitch in pitch_counts:\n",
    "        p = pitch[0].upper() + pitch[1:]\n",
    "        \n",
    "        if \"#\" in p or \"b\" in p:\n",
    "            ind = enharm_names_dict[p]\n",
    "        else:\n",
    "            ind = pitch_names_dict[p]\n",
    "            \n",
    "        pitch_vec[ind] += pitch_counts[pitch]\n",
    "        \n",
    "    if verbose:\n",
    "        print(pitch_vec)\n",
    "    \n",
    "    return pitch_vec"
   ]
  },
  {
   "cell_type": "code",
   "execution_count": 98,
   "id": "e7b8a2c4",
   "metadata": {},
   "outputs": [
    {
     "data": {
      "image/png": "[encoded data removed]",
      "text/plain": [
       "<Figure size 640x480 with 1 Axes>"
      ]
     },
     "metadata": {},
     "output_type": "display_data"
    }
   ],
   "source": [
    "# get counts of most prevalent frequencies\n",
    "pitch_counts = get_pitch_counts(most_prev)\n",
    "\n",
    "pitches = [pair[0] for pair in pitch_counts.items()]\n",
    "counts = [pair[1] for pair in pitch_counts.items()]\n",
    "\n",
    "plt.stem(pitches, counts)\n",
    "plt.title(f\"Non-zero Values in Pitch Vector in Window #{win_num}\")\n",
    "plt.show()\n",
    "plt.close()"
   ]
  },
  {
   "cell_type": "code",
   "execution_count": 169,
   "id": "9bc98c05",
   "metadata": {},
   "outputs": [
    {
     "name": "stdout",
     "output_type": "stream",
     "text": [
      "Pitch Vector: [12  0  0  0  0  0  0  0  0  0  0  0]\n"
     ]
    }
   ],
   "source": [
    "# get pitch vector of most prevalent frequencies\n",
    "\n",
    "# C Major pitch vector: [1, 0, 1, 0, 1, 1, 0, 1, 0, 1, 0, 1]\n",
    "# C Minor pitch vector: [1, 0, 1, 1, 0, 1, 0, 1, 1, 0, 1, 0]\n",
    "pv = get_pitch_vector(most_prev)\n",
    "print(\"Pitch Vector:\", pv)\n",
    "\n",
    "# stores center of mass of indices\n",
    "# weighted by count value\n",
    "com = np.round(np.average(np.arange(len(pv)), weights=pv))\n",
    "pvq = deque(pv)\n",
    "\n",
    "num_semitones = int(com) + (len(pvq)//2)\n",
    "print(f\"Transposing up {num_semitones} semitones\")\n",
    "pvq.rotate(num_semitones)\n",
    "print(\"Rotated Pitch Vector:\", [float(val) for val in pvq])"
   ]
  },
  {
   "cell_type": "markdown",
   "id": "0409b788",
   "metadata": {},
   "source": [
    "### TODO: Fix the transposition function to center at C (index 0)"
   ]
  },
  {
   "cell_type": "markdown",
   "id": "fc18e0e6",
   "metadata": {},
   "source": [
    "May be able to try below method with major and minor chord tones, then use return value to determine which key is most likely between parallel scales"
   ]
  },
  {
   "cell_type": "code",
   "execution_count": 80,
   "id": "d5a075ed",
   "metadata": {},
   "outputs": [],
   "source": [
    "def get_dist_to_C(p_vec: np.array) -> int:\n",
    "    \"\"\"\n",
    "        Returns number of right rotations (up transpositions)\n",
    "        to arrive at C\n",
    "    \"\"\"\n",
    "    DIATONIC_WEIGHT = 1.0\n",
    "    CHROMATIC_WEIGHT = 0.2\n",
    "\n",
    "    \"\"\"\n",
    "    MAY BE ABLE TO OPTIMIZE\n",
    "    \"\"\"\n",
    "    chord_weights = np.array([CHROMATIC_WEIGHT]*12)\n",
    "    chord_weights[0] = 0.7*DIATONIC_WEIGHT      # root\n",
    "    chord_weights[3] = DIATONIC_WEIGHT          # minor 3\n",
    "    chord_weights[4] = DIATONIC_WEIGHT          # major 3\n",
    "    chord_weights[7] = 0.5*DIATONIC_WEIGHT      # perfect fifth; may be omitted\n",
    "    chord_weights[10] = 0.85*DIATONIC_WEIGHT    # minor 7\n",
    "    chord_weights[11] = 0.85*DIATONIC_WEIGHT    # major 7\n",
    "\n",
    "    # find shift that maximizes weight chord tones\n",
    "    max_val = 0\n",
    "    max_shift = 0\n",
    "    for i in range(12):\n",
    "        tq = deque(p_vec)\n",
    "        tq.rotate(i)\n",
    "        \n",
    "        # emphasize chord tones\n",
    "        tq *= chord_weights\n",
    "        # prints shift value, weighted sum, and weighted pitch vector\n",
    "        print(i, sum(tq), [float(val) for val in tq])\n",
    "        \n",
    "        if sum(tq) > max_val:\n",
    "            max_val = sum(tq)\n",
    "            max_shift = i\n",
    "            \n",
    "    return max_shift"
   ]
  },
  {
   "cell_type": "code",
   "execution_count": 204,
   "id": "315dfd82",
   "metadata": {},
   "outputs": [],
   "source": [
    "def get_dist_to_C_with_quality(p_vec: np.array, verbose=False) -> int:\n",
    "    \"\"\"\n",
    "        Returns number of semitones to shift DOWN\n",
    "        (rotate) to make most likely root index 0\n",
    "        \n",
    "        Checks both C major and minor and returns based on\n",
    "        most likely result\n",
    "        \n",
    "        :return: tuple containing semitone shift\n",
    "                 value to get to C and `quality`\n",
    "                 \n",
    "                 if major, `quality` = True\n",
    "    \"\"\"\n",
    "    DIATONIC_WEIGHT = 1.0\n",
    "    CHROMATIC_WEIGHT = 0.01\n",
    "    \n",
    "    pitch_names = [\"C\", \"C#/Db\", \"D\", \"D#/Eb\",\"E\",\n",
    "                   \"F\", \"F#/Gb\", \"G\", \"G#/Ab\", \"A\",\n",
    "                   \"A#/Bb\", \"B\"]\n",
    "\n",
    "    # initialize weights of chord tones\n",
    "    major_chord_weights = np.array([CHROMATIC_WEIGHT]*12)\n",
    "    minor_chord_weights = np.array([CHROMATIC_WEIGHT]*12)\n",
    "    \n",
    "    # roots\n",
    "    major_chord_weights[0] = 0.65*DIATONIC_WEIGHT\n",
    "    minor_chord_weights[0] = 0.65*DIATONIC_WEIGHT\n",
    "    \n",
    "    # perfect fifths\n",
    "    major_chord_weights[7] = 0.5*DIATONIC_WEIGHT\n",
    "    minor_chord_weights[7] = 0.5*DIATONIC_WEIGHT\n",
    "    \n",
    "    # thirds\n",
    "    minor_chord_weights[3] = DIATONIC_WEIGHT          # minor 3\n",
    "    major_chord_weights[4] = DIATONIC_WEIGHT          # major 3\n",
    "    \n",
    "    # ----- Upper Chord Extensions -----\n",
    "    \n",
    "    # chord sevenths\n",
    "    minor_chord_weights[10] = 0.7*DIATONIC_WEIGHT    # minor 7\n",
    "    major_chord_weights[11] = 0.7*DIATONIC_WEIGHT    # major 7\n",
    "    \n",
    "    # chord ninths\n",
    "    minor_chord_weights[2] = 0.3*DIATONIC_WEIGHT\n",
    "    major_chord_weights[2] = 0.3*DIATONIC_WEIGHT\n",
    "    \n",
    "    # ----- Tendency Tones -----\n",
    "    \n",
    "    major_chord_weights[5] = 0.2*DIATONIC_WEIGHT    # 4 -> 3\n",
    "    minor_chord_weights[8] = 0.2*DIATONIC_WEIGHT    # 6 -> 5\n",
    "    \n",
    "\n",
    "    # find shift that maximizes weight chord tones\n",
    "    quality = True\n",
    "    max_val = 0\n",
    "    shift = 0\n",
    "    \n",
    "    if verbose:\n",
    "        print(\"Pitch Vector:\", [float(val) for val in p_vec])\n",
    "    \n",
    "    # check both major and minor modes\n",
    "    for chord_weights in [major_chord_weights, minor_chord_weights]:\n",
    "        isMajor = all(np.equal(chord_weights, major_chord_weights))\n",
    "        \n",
    "        if verbose:\n",
    "            print(\"Major\" if isMajor else \"Minor\")\n",
    "            print(\"Chord Weights:\", [float(val) for val in chord_weights])\n",
    "            print(\"Pitch Vector (No Rotation):\", [float(val) for val in p_vec])\n",
    "        \n",
    "        for i in range(12):\n",
    "            # rolling by POSITIVE value transposes DOWN\n",
    "            pv = np.roll(p_vec, i)\n",
    "            \n",
    "            # emphasize chord tones\n",
    "            pv = np.multiply(pv, chord_weights)\n",
    "            \n",
    "            # prints shift value, weighted sum, and weighted pitch vector\n",
    "            if verbose:\n",
    "                key = pitch_names[-i]\n",
    "                print(f\"{key}\\t{np.round(np.sum(pv), 3)}\\t{[round(float(val), 5) for val in pv]}\")\n",
    "            \n",
    "            if np.sum(pv) > max_val:\n",
    "                max_val = np.sum(pv)\n",
    "                \n",
    "                quality = isMajor\n",
    "                shift = i\n",
    "            \n",
    "    # return semitones to shift \n",
    "    return shift, quality"
   ]
  },
  {
   "cell_type": "code",
   "execution_count": 84,
   "id": "59435f5b",
   "metadata": {},
   "outputs": [
    {
     "data": {
      "image/png": "[encoded data removed]",
      "text/plain": [
       "<Figure size 640x480 with 1 Axes>"
      ]
     },
     "metadata": {},
     "output_type": "display_data"
    }
   ],
   "source": [
    "# test get_dist_to_C(...) and get_dist_to_C_with_quality(...)\n",
    "\n",
    "# C major 7 chord, emphasized 3\n",
    "test_arr = np.array([20, 0, 0, 0, 30, 0, 0, 10, 0, 0, 0, 5]).astype(np.float32)\n",
    "\n",
    "test_arr = np.roll(test_arr, 5)\n",
    "\n",
    "test_shift, quality = get_dist_to_C_with_quality(test_arr)\n",
    "\n",
    "test_q = deque(test_arr)\n",
    "test_q.rotate(test_shift)\n",
    "\n",
    "plt.plot(test_arr, label=\"Pre-Rotation\")\n",
    "plt.plot(test_q, label=\"Post-Rotation\")\n",
    "plt.title(f\"{12-test_shift} semitones away from C\")\n",
    "plt.legend()\n",
    "plt.show()\n",
    "plt.close()"
   ]
  },
  {
   "cell_type": "code",
   "execution_count": 26,
   "id": "dfa617da",
   "metadata": {},
   "outputs": [],
   "source": [
    "def get_scale_from_vector(p_vec: list) -> str:\n",
    "    \"\"\"\n",
    "        Return name of most likely scale\n",
    "        given vector of most prevalent pitches\n",
    "        \n",
    "        :param p_vec: 12-value pitch vector\n",
    "        \n",
    "        :return: name of scale\n",
    "    \"\"\"\n",
    "    # stores semitones to be transposed to get to C\n",
    "    # less emphasis on 2, 4, and 5\n",
    "    c_major = [1, 0, 0.6, 0, 1, 0.7, 0, 0.4, 0, 1, 0, 1]\n",
    "    c_minor = [1, 0, 0.6, 1, 0, 0.7, 0, 0.4, 1, 0, 1, 0]\n",
    "    pitch_names = [\"C\", \"C#/Db\", \"D\", \"D#/Eb\",\"E\",\n",
    "                   \"F\", \"F#/Gb\", \"G\", \"G#/Ab\", \"A\",\n",
    "                   \"A#/Bb\", \"B\"]\n",
    "    \n",
    "    c_major = np.array(c_major)\n",
    "    c_minor = np.array(c_minor)\n",
    "    \n",
    "    # ----- NOT IN USE -----\n",
    "    # # center of mass of indices\n",
    "    # # weighted by count value\n",
    "    # com = np.round(\n",
    "    #     np.average(np.arange(len(p_vec)),\n",
    "    #     weights=p_vec)\n",
    "    # )\n",
    "    # pvq = deque(p_vec)\n",
    "    \n",
    "    # semitones = int(com) + (len(pvq)//2) # what is this for?\n",
    "    # pvq.rotate(semitones)\n",
    "    \n",
    "    # pv = np.array(pvq)\n",
    "    # ----- NOT IN USE -----\n",
    "    \n",
    "    semitones, quality = get_dist_to_C_with_quality(p_vec)\n",
    "    key = pitch_names[semitones]\n",
    "    # print(\"[get_scale_from_vector]\", semitones, key)\n",
    "    \n",
    "    pv = deque(p_vec)\n",
    "    pv.rotate(semitones)\n",
    "    \n",
    "    # Euclidean distance to major or minor\n",
    "    major_dist = np.linalg.norm(np.abs(pv-c_major))\n",
    "    minor_dist = np.linalg.norm(np.abs(pv-c_minor))\n",
    "    \n",
    "    quality = \"Major\"\n",
    "    if major_dist > minor_dist:\n",
    "        quality = \"Minor\"\n",
    "    \n",
    "    return pitch_names[-semitones%12] + \" \" + quality"
   ]
  },
  {
   "cell_type": "code",
   "execution_count": 150,
   "id": "73c6d3c5",
   "metadata": {},
   "outputs": [
    {
     "name": "stdout",
     "output_type": "stream",
     "text": [
      "[get_pitch_counts] ['C-1' 'C-1' 'C-1' 'C-1' 'C-1' 'C-1' 'C-1' 'C-1' 'C-1' 'C-1' 'C-1' 'C-1']\n",
      "[get_pitch_vector] Counter({np.str_('C'): 12})\n",
      "C Major\n"
     ]
    }
   ],
   "source": [
    "# test get_scale_from_vector(...)\n",
    "pv = get_pitch_vector(most_prev)\n",
    "print(get_scale_from_vector(pv))"
   ]
  },
  {
   "cell_type": "code",
   "execution_count": 126,
   "id": "90ba56e1",
   "metadata": {},
   "outputs": [
    {
     "name": "stdout",
     "output_type": "stream",
     "text": [
      "[2 0 0 2 1 3 1 0 0 0 3 0]\n",
      "Semitones to shift DOWN: 4\n",
      "G#/Ab Minor\n"
     ]
    }
   ],
   "source": [
    "# test get_dist_to_C_with_quality(...)\n",
    "pitch_names = [\"C\", \"C#/Db\", \"D\", \"D#/Eb\",\"E\",\n",
    "                \"F\", \"F#/Gb\", \"G\", \"G#/Ab\", \"A\",\n",
    "                \"A#/Bb\", \"B\"]\n",
    "\n",
    "smtns, qlty = get_dist_to_C_with_quality(pv, verbose=False)\n",
    "\n",
    "# smtns should be 2\n",
    "\n",
    "print(np.roll(pv, smtns))\n",
    "print(\"Semitones to shift DOWN:\", smtns)\n",
    "print(pitch_names[-smtns], (\"Major\" if qlty else \"Minor\"))"
   ]
  },
  {
   "cell_type": "markdown",
   "id": "d09b1cde",
   "metadata": {},
   "source": [
    "## Use collected data to choose most likely scale"
   ]
  },
  {
   "cell_type": "code",
   "execution_count": 205,
   "id": "13b286cc",
   "metadata": {},
   "outputs": [
    {
     "name": "stdout",
     "output_type": "stream",
     "text": [
      "bee gees_how deep is your love_f minor_105\n",
      "260.25 Seconds Long\n",
      "Window Start Time: 0 m 0.00 s\n",
      "[232.75     77.59375  77.6875   77.4375   77.40625 310.71875 310.90625\n",
      " 310.875   310.8125  310.78125 310.84375 310.75   ]\n",
      "[ 0  0 11  0  0  0  0  0  0  1  0  0]\n",
      "Window Start Time: 0 m 16.00 s\n",
      "[310.8125  311.03125 414.84375  77.84375 349.      310.90625 414.9375\n",
      " 310.875   232.75    310.84375 310.75    310.78125]\n",
      "[0 0 8 0 0 1 0 2 0 1 0 0]\n",
      "Window Start Time: 0 m 32.00 s\n",
      "[310.84375  70.       45.5     175.      391.4375  414.96875  63.\n",
      "  87.5      42.       59.5      38.5     349.09375]\n",
      "[1 0 2 0 1 4 0 2 0 1 0 1]\n",
      "Window Start Time: 0 m 48.00 s\n",
      "[391.65625 310.6875  349.125   310.75    311.0625  310.71875 155.40625\n",
      " 155.4375  310.8125  391.53125 310.65625 310.625  ]\n",
      "[0 0 9 0 0 1 0 2 0 0 0 0]\n",
      "Window Start Time: 1 m 4.00 s\n",
      "[155.40625 391.9375  391.53125 310.71875 310.78125 311.03125 310.625\n",
      " 391.625   391.5625  310.65625 155.4375  310.6875 ]\n",
      "[0 0 8 0 0 0 0 4 0 0 0 0]\n",
      "Window Start Time: 1 m 20.00 s\n",
      "[415.09375 310.65625 349.09375 348.9375  414.78125 348.90625 311.\n",
      " 310.75    310.5625  310.8125  310.90625  87.5    ]\n",
      "[0 0 6 0 0 4 0 2 0 0 0 0]\n",
      "Window Start Time: 1 m 36.00 s\n",
      "[415.15625 310.5625  310.71875 311.      414.78125 155.5625  310.8125\n",
      " 155.53125  87.5     310.65625 348.9375  310.9375 ]\n",
      "[0 0 8 0 0 2 0 2 0 0 0 0]\n",
      "Window Start Time: 1 m 52.00 s\n",
      "[310.625   465.78125 155.53125 311.03125 391.84375 415.03125 310.6875\n",
      " 310.59375 391.6875  155.5625  414.875   391.71875]\n",
      "[0 0 6 0 0 0 0 5 0 1 0 0]\n",
      "Window Start Time: 2 m 8.00 s\n",
      "[311.03125 310.59375 523.21875 391.6875  415.09375 415.03125 310.78125\n",
      " 623.25    349.125   414.96875 391.71875 414.875  ]\n",
      "[0 0 4 0 0 1 0 6 0 0 0 1]\n",
      "Window Start Time: 2 m 24.00 s\n",
      "[623.25    115.96875 232.75    623.28125 349.09375 349.03125 415.\n",
      " 414.75    414.875   348.90625 414.96875 415.09375]\n",
      "[0 0 2 0 0 3 0 5 0 2 0 0]\n",
      "Window Start Time: 2 m 40.00 s\n",
      "[415.      623.40625 391.875   623.28125 623.375   414.96875 348.90625\n",
      " 623.46875 415.09375 310.78125 310.71875 310.75   ]\n",
      "[0 0 7 0 0 1 0 4 0 0 0 0]\n",
      "Window Start Time: 2 m 56.00 s\n",
      "[622.875   311.0625  391.3125  623.03125 310.5625  391.84375 311.\n",
      " 623.40625 391.75    310.6875  310.8125  310.71875]\n",
      "[0 0 9 0 0 0 0 3 0 0 0 0]\n",
      "Window Start Time: 3 m 12.00 s\n",
      "[310.625   155.40625 415.0625  622.90625 391.84375 311.09375 415.15625\n",
      " 414.8125  310.8125  310.75    310.65625 310.71875]\n",
      "[0 0 8 0 0 0 0 4 0 0 0 0]\n",
      "Window Start Time: 3 m 28.00 s\n",
      "[391.71875 310.6875  310.625   311.      391.5     310.8125  310.84375\n",
      " 310.9375  310.65625 310.75    310.78125 310.71875]\n",
      "[ 0  0 10  0  0  0  0  2  0  0  0  0]\n",
      "Window Start Time: 3 m 44.00 s\n",
      "[310.875   391.6875  310.84375 310.9375  311.      310.90625 310.65625\n",
      " 310.6875  310.71875 310.8125  310.75    310.78125]\n",
      "[ 0  0 11  0  0  0  0  1  0  0  0  0]\n",
      "Window Start Time: 4 m 0.00 s\n",
      "[623.21875 207.8125  623.0625  622.9375  623.375   623.03125 622.96875\n",
      " 623.25    623.      623.34375 623.28125 623.3125 ]\n",
      "[ 0  0 11  0  0  0  0  1  0  0  0  0]\n",
      "Window Start Time: 4 m 16.00 s\n",
      "[0.84375 0.8125  0.78125 0.75    0.71875 0.6875  0.65625 0.625   0.59375\n",
      " 0.5625  0.53125 0.5    ]\n",
      "[12  0  0  0  0  0  0  0  0  0  0  0]\n",
      "Pitch Vector: [13.0, 0.0, 120.0, 0.0, 1.0, 17.0, 0.0, 45.0, 0.0, 6.0, 0.0, 2.0]\n",
      "Major\n",
      "Chord Weights: [0.65, 0.01, 0.3, 0.01, 1.0, 0.2, 0.01, 0.5, 0.01, 0.01, 0.01, 0.7]\n",
      "Pitch Vector (No Rotation): [13.0, 0.0, 120.0, 0.0, 1.0, 17.0, 0.0, 45.0, 0.0, 6.0, 0.0, 2.0]\n",
      "C\t72.81\t[8.45, 0.0, 36.0, 0.0, 1.0, 3.4, 0.0, 22.5, 0.0, 0.06, 0.0, 1.4]\n",
      "B\t3.51\t[1.3, 0.13, 0.0, 1.2, 0.0, 0.2, 0.17, 0.0, 0.45, 0.0, 0.06, 0.0]\n",
      "A#/Bb\t137.08\t[0.0, 0.02, 3.9, 0.0, 120.0, 0.0, 0.01, 8.5, 0.0, 0.45, 0.0, 4.2]\n",
      "A\t29.75\t[3.9, 0.0, 0.6, 0.13, 0.0, 24.0, 0.0, 0.5, 0.17, 0.0, 0.45, 0.0]\n",
      "G#/Ab\t45.96\t[0.0, 0.06, 0.0, 0.02, 13.0, 0.0, 1.2, 0.0, 0.01, 0.17, 0.0, 31.5]\n",
      "G\t95.83\t[29.25, 0.0, 1.8, 0.0, 2.0, 2.6, 0.0, 60.0, 0.0, 0.01, 0.17, 0.0]\n",
      "F#/Gb\t14.15\t[0.0, 0.45, 0.0, 0.06, 0.0, 0.4, 0.13, 0.0, 1.2, 0.0, 0.01, 11.9]\n",
      "F\t38.97\t[11.05, 0.0, 13.5, 0.0, 6.0, 0.0, 0.02, 6.5, 0.0, 1.2, 0.0, 0.7]\n",
      "E\t4.8\t[0.65, 0.17, 0.0, 0.45, 0.0, 1.2, 0.0, 1.0, 0.13, 0.0, 1.2, 0.0]\n",
      "D#/Eb\t134.32\t[0.0, 0.01, 5.1, 0.0, 45.0, 0.0, 0.06, 0.0, 0.02, 0.13, 0.0, 84.0]\n",
      "D\t90.62\t[78.0, 0.0, 0.3, 0.17, 0.0, 9.0, 0.0, 3.0, 0.0, 0.02, 0.13, 0.0]\n",
      "C#/Db\t27.84\t[0.0, 1.2, 0.0, 0.01, 17.0, 0.0, 0.45, 0.0, 0.06, 0.0, 0.02, 9.1]\n",
      "Minor\n",
      "Chord Weights: [0.65, 0.01, 0.3, 1.0, 0.01, 0.01, 0.01, 0.5, 0.2, 0.01, 0.7, 0.01]\n",
      "Pitch Vector (No Rotation): [13.0, 0.0, 120.0, 0.0, 1.0, 17.0, 0.0, 45.0, 0.0, 6.0, 0.0, 2.0]\n",
      "C\t67.21\t[8.45, 0.0, 36.0, 0.0, 0.01, 0.17, 0.0, 22.5, 0.0, 0.06, 0.0, 0.02]\n",
      "B\t134.81\t[1.3, 0.13, 0.0, 120.0, 0.0, 0.01, 0.17, 0.0, 9.0, 0.0, 4.2, 0.0]\n",
      "A#/Bb\t14.14\t[0.0, 0.02, 3.9, 0.0, 1.2, 0.0, 0.01, 8.5, 0.0, 0.45, 0.0, 0.06]\n",
      "A\t54.1\t[3.9, 0.0, 0.6, 13.0, 0.0, 1.2, 0.0, 0.5, 3.4, 0.0, 31.5, 0.0]\n",
      "G#/Ab\t4.21\t[0.0, 0.06, 0.0, 2.0, 0.13, 0.0, 1.2, 0.0, 0.2, 0.17, 0.0, 0.45]\n",
      "G\t103.11\t[29.25, 0.0, 1.8, 0.0, 0.02, 0.13, 0.0, 60.0, 0.0, 0.01, 11.9, 0.0]\n",
      "F#/Gb\t31.47\t[0.0, 0.45, 0.0, 6.0, 0.0, 0.02, 0.13, 0.0, 24.0, 0.0, 0.7, 0.17]\n",
      "F\t32.34\t[11.05, 0.0, 13.5, 0.0, 0.06, 0.0, 0.02, 6.5, 0.0, 1.2, 0.0, 0.01]\n",
      "E\t133.48\t[0.65, 0.17, 0.0, 45.0, 0.0, 0.06, 0.0, 1.0, 2.6, 0.0, 84.0, 0.0]\n",
      "D#/Eb\t7.35\t[0.0, 0.01, 5.1, 0.0, 0.45, 0.0, 0.06, 0.0, 0.4, 0.13, 0.0, 1.2]\n",
      "D\t107.87\t[78.0, 0.0, 0.3, 17.0, 0.0, 0.45, 0.0, 3.0, 0.0, 0.02, 9.1, 0.0]\n",
      "C#/Db\t5.55\t[0.0, 1.2, 0.0, 1.0, 0.17, 0.0, 0.45, 0.0, 1.2, 0.0, 1.4, 0.13]\n",
      "A#/Bb Major\n"
     ]
    }
   ],
   "source": [
    "ind = list(instrumental_data.keys())[0]\n",
    "print(ind)\n",
    "\n",
    "# samples of audio data\n",
    "# length of song in seconds\n",
    "samples, seconds = instrumental_data[ind]\n",
    "\n",
    "print(f\"{seconds} Seconds Long\")\n",
    "\n",
    "# list of snippets in song\n",
    "# start time in seconds of each snippet\n",
    "windows, start_times = create_snippets(samples, seconds)\n",
    "\n",
    "song_pv = np.array([0.0]*12)\n",
    "\n",
    "for i, window in enumerate(windows):\n",
    "    print(f\"Window Start Time: {int(start_times[i]//60)} m {start_times[i]%60:.2f} s\")\n",
    "    \n",
    "    # Raw FFT data\n",
    "    # FFT frequencies for indexing\n",
    "    # Sampling frequency\n",
    "    samps_fft, samps_freqs, fs = get_fftdata_from_window(window)\n",
    "    \n",
    "    # Top 12 most prevalent frequencies\n",
    "    most_prev = get_top_k_freqs(samps_fft, fs, k=12, verbose=True)\n",
    "    \n",
    "    # 12-valued pitch vector\n",
    "    pv = get_pitch_vector(most_prev, verbose=True)\n",
    "    song_pv += pv\n",
    "    \n",
    "\n",
    "# semitones required to shift DOWN to get to C\n",
    "# quality of song; True if major\n",
    "shift, isMajor = get_dist_to_C_with_quality(song_pv, verbose=True)\n",
    "    \n",
    "print(pitch_names[-shift], (\"Major\" if isMajor else \"Minor\"))"
   ]
  }
 ],
 "metadata": {
  "kernelspec": {
   "display_name": ".venv",
   "language": "python",
   "name": "python3"
  },
  "language_info": {
   "codemirror_mode": {
    "name": "ipython",
    "version": 3
   },
   "file_extension": ".py",
   "mimetype": "text/x-python",
   "name": "python",
   "nbconvert_exporter": "python",
   "pygments_lexer": "ipython3",
   "version": "3.11.5"
  }
 },
 "nbformat": 4,
 "nbformat_minor": 5
}
