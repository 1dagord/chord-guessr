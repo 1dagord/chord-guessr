{
 "cells": [
  {
   "cell_type": "code",
   "execution_count": 1,
   "id": "1f31280c",
   "metadata": {},
   "outputs": [],
   "source": [
    "# imports\n",
    "from numpy.fft import fft, fftshift, fftfreq\n",
    "from collections import Counter, deque\n",
    "\n",
    "import matplotlib.pyplot as plt\n",
    "import numpy as np\n",
    "import subprocess\n",
    "import warnings\n",
    "import librosa\n",
    "import math\n",
    "import os\n",
    "\n",
    "warnings.filterwarnings(\n",
    "    \"ignore\",\n",
    "    message=\"PySoundFile failed\"\n",
    ")\n",
    "warnings.filterwarnings(\n",
    "    \"ignore\",\n",
    "    category=FutureWarning\n",
    ")"
   ]
  },
  {
   "cell_type": "code",
   "execution_count": 2,
   "id": "b8148f74",
   "metadata": {},
   "outputs": [],
   "source": [
    "def extractSongInfo(filename: str) -> list[str]:\n",
    "    \"\"\"\n",
    "        Splits filename up into useful info\n",
    "    \"\"\"\n",
    "    info = filename.split(\"_\")\n",
    "    info = [x.replace(\"-\", \" \").lower() for x in info]\n",
    "    \n",
    "    if len(info) == 4:\n",
    "        artist, song, key, bpm = info\n",
    "        bpm = bpm[:-4]\n",
    "    else:\n",
    "        artist, song, key, bpm, _ = info\n",
    "\n",
    "    item = (artist, song, key, bpm)\n",
    "    \n",
    "    return item"
   ]
  },
  {
   "cell_type": "markdown",
   "id": "960fb932",
   "metadata": {},
   "source": [
    "### Divide songs by key"
   ]
  },
  {
   "cell_type": "code",
   "execution_count": 3,
   "id": "b6aa54e5",
   "metadata": {},
   "outputs": [
    {
     "name": "stdout",
     "output_type": "stream",
     "text": [
      "65 35\n",
      "100\n"
     ]
    }
   ],
   "source": [
    "# read in audio data and store in a dictionary\n",
    "major_songs = []\n",
    "minor_songs = []\n",
    "audio_data = {}\n",
    "\n",
    "folder = \"songs\"\n",
    "\n",
    "for file in os.listdir(os.path.join(folder)):\n",
    "    if file[0] != \".\":\n",
    "        \n",
    "        item = extractSongInfo(file)\n",
    "        _, _, key, _ = item\n",
    "        \n",
    "        # librosa does not work well with .mp3 files\n",
    "        audio, sample_rate = librosa.load(os.path.join(os.getcwd(), folder, file))\n",
    "        \n",
    "        # get length of audio file\n",
    "        command = \"ffprobe -v error -show_entries format=duration -of default=noprint_wrappers=1:nokey=1 \"\n",
    "        command += f\"{os.path.join(os.getcwd(), folder, file)}\"\n",
    "        \n",
    "        length = subprocess.run(\n",
    "            command.split(),\n",
    "            stdout=subprocess.PIPE\n",
    "        )\n",
    "        \n",
    "        # truncate to 2 decimals\n",
    "        numSeconds = float(length.stdout)\n",
    "        numSeconds = \"{:.{}f}\".format(numSeconds, 2)\n",
    "        \n",
    "        # hashes audio data\n",
    "        audio_data.update({\n",
    "            '_'.join(item) : (audio, float(numSeconds))\n",
    "        })\n",
    "        \n",
    "        # store song based on quality of key\n",
    "        if key.find(\"major\") != -1:\n",
    "            major_songs.append(item)\n",
    "        else:\n",
    "            minor_songs.append(item)\n",
    "\n",
    "major_songs.sort(key=lambda x: x[2])\n",
    "minor_songs.sort(key=lambda x: x[2])\n",
    "\n",
    "print(len(major_songs), len(minor_songs))\n",
    "print(len(audio_data))"
   ]
  },
  {
   "cell_type": "code",
   "execution_count": 4,
   "id": "56f60c4a",
   "metadata": {},
   "outputs": [
    {
     "name": "stdout",
     "output_type": "stream",
     "text": [
      "100\n"
     ]
    }
   ],
   "source": [
    "# read in instrumental data and store in a dictionary\n",
    "instrumental_data = {}\n",
    "\n",
    "folder = \"instrumentals\"\n",
    "\n",
    "for file in os.listdir(os.path.join(folder)):\n",
    "    if file[0] != \".\":\n",
    "        \n",
    "        item = extractSongInfo(file)\n",
    "        artist, song, key, bpm = item\n",
    "        \n",
    "        info = (artist, song, key, bpm)\n",
    "        \n",
    "        # librosa does not work well with .mp3 files\n",
    "        audio, sample_rate = librosa.load(os.path.join(os.getcwd(), folder, file))\n",
    "        \n",
    "        # get length of audio file\n",
    "        command = \"ffprobe -v error -show_entries format=duration -of default=noprint_wrappers=1:nokey=1 \"\n",
    "        command += f\"{os.path.join(os.getcwd(), folder, file)}\"\n",
    "        \n",
    "        length = subprocess.run(\n",
    "            command.split(),\n",
    "            stdout=subprocess.PIPE\n",
    "        )\n",
    "        \n",
    "        # truncate to 2 decimals\n",
    "        numSeconds = float(length.stdout)\n",
    "        numSeconds = \"{:.{}f}\".format(numSeconds, 2)\n",
    "        \n",
    "        # hashes audio data\n",
    "        instrumental_data.update({\n",
    "            '_'.join(info) : (audio, float(numSeconds))\n",
    "        })\n",
    "        \n",
    "print(len(instrumental_data))"
   ]
  },
  {
   "cell_type": "markdown",
   "id": "10267acb",
   "metadata": {},
   "source": [
    "## Get Song to Test"
   ]
  },
  {
   "cell_type": "code",
   "execution_count": 249,
   "id": "6334b191",
   "metadata": {},
   "outputs": [
    {
     "name": "stdout",
     "output_type": "stream",
     "text": [
      "the j geils band_centerfold_c major_114\n",
      "Samples per second: 22050.396932792064\n",
      "Song is 221.7 long\n"
     ]
    },
    {
     "data": {
      "image/png": "[encoded data removed]",
      "text/plain": [
       "<Figure size 640x480 with 1 Axes>"
      ]
     },
     "metadata": {},
     "output_type": "display_data"
    }
   ],
   "source": [
    "# test data reads\n",
    "\n",
    "ind = list(instrumental_data.keys())[90]\n",
    "samples, seconds = instrumental_data[ind]\n",
    "\n",
    "print(ind)\n",
    "print(\"Samples per second:\", (int(samples.shape[0]))/seconds)\n",
    "print(f\"Song is {seconds} long\")\n",
    "plt.plot(samples)\n",
    "plt.show()"
   ]
  },
  {
   "cell_type": "markdown",
   "id": "3789740d",
   "metadata": {},
   "source": [
    "# Step 3: Get Key of Song from Data\n",
    "\n",
    "Idea 1: divide song into multiple overlapping chunks and perform FFT on all of them \\\n",
    ">       0:00 |--------|   |--------|   |--------| 4:23\n",
    "                   |--------|   |--------|\n",
    "                   \n",
    "        - make length of window a function of bpm and length of song"
   ]
  },
  {
   "cell_type": "code",
   "execution_count": 6,
   "id": "c0c4f1e8",
   "metadata": {},
   "outputs": [
    {
     "name": "stdout",
     "output_type": "stream",
     "text": [
      "Average BPM: 119.01\n"
     ]
    }
   ],
   "source": [
    "# get average bpm\n",
    "avg_bpm = 0\n",
    "for song in audio_data:\n",
    "    _, _, _, bpm = song.split(\"_\")\n",
    "    avg_bpm += int(bpm)\n",
    "    \n",
    "avg_bpm /= len(audio_data)\n",
    "print(f\"Average BPM: {avg_bpm}\")"
   ]
  },
  {
   "cell_type": "code",
   "execution_count": 7,
   "id": "ec515b96",
   "metadata": {},
   "outputs": [
    {
     "name": "stdout",
     "output_type": "stream",
     "text": [
      "Minimum song length: 135.0\n"
     ]
    }
   ],
   "source": [
    "# get minimum song length\n",
    "min_song_length = 2**16\n",
    "for _, secs in audio_data.values():\n",
    "    min_song_length = min(min_song_length, secs)\n",
    "print(f\"Minimum song length: {min_song_length}\")"
   ]
  },
  {
   "cell_type": "code",
   "execution_count": 8,
   "id": "bd537eb1",
   "metadata": {},
   "outputs": [
    {
     "name": "stdout",
     "output_type": "stream",
     "text": [
      "Average Song Length:\t\t237.62 seconds\n",
      "Average Instrumental Length:\t248.6 seconds\n"
     ]
    }
   ],
   "source": [
    "# get average length (in seconds)\n",
    "avg_song_secs = 0\n",
    "avg_instr_secs = 0\n",
    "\n",
    "for _, secs in audio_data.values():\n",
    "    avg_song_secs += secs\n",
    "for _, secs in instrumental_data.values():\n",
    "    avg_instr_secs += secs\n",
    "    \n",
    "avg_song_secs /= len(audio_data)\n",
    "avg_instr_secs /= len(audio_data)\n",
    "\n",
    "avg_song_secs = round(avg_song_secs, 2)\n",
    "avg_instr_secs = round(avg_instr_secs, 2)\n",
    "print(f\"Average Song Length:\\t\\t{avg_song_secs} seconds\")\n",
    "print(f\"Average Instrumental Length:\\t{avg_instr_secs} seconds\")"
   ]
  },
  {
   "cell_type": "code",
   "execution_count": 9,
   "id": "ea48a8c6",
   "metadata": {},
   "outputs": [
    {
     "name": "stdout",
     "output_type": "stream",
     "text": [
      "4.0 8.599999999999994\n"
     ]
    }
   ],
   "source": [
    "# prints avg song length in minutes and seconds\n",
    "print(avg_instr_secs//60, avg_instr_secs%60)"
   ]
  },
  {
   "cell_type": "code",
   "execution_count": 10,
   "id": "63c3f324",
   "metadata": {},
   "outputs": [
    {
     "name": "stdout",
     "output_type": "stream",
     "text": [
      "Seconds in 16 bars: 32.27\n"
     ]
    }
   ],
   "source": [
    "\"\"\"\n",
    "    For each window to contain 16 bars,\n",
    "    seconds_per_beat = (1/bpm)*(60)\n",
    "    window_width = 16*4*seconds_per_beat\n",
    "    \n",
    "    plan for 4 max modulations\n",
    "\"\"\"\n",
    "sixteen_bars = round(16*4*(60/avg_bpm), 2)\n",
    "print(f\"Seconds in 16 bars: {sixteen_bars}\")\n"
   ]
  },
  {
   "cell_type": "code",
   "execution_count": 6,
   "id": "743dcaa4",
   "metadata": {},
   "outputs": [],
   "source": [
    "def get_window_length(song_len: float) -> int:\n",
    "    \"\"\"\n",
    "        Clamps window length between 15 and 45 seconds\n",
    "        15 seconds for songs <= 2:, 45 seconds for songs >= 6 mins\n",
    "        \n",
    "        :return: window length in seconds\n",
    "    \"\"\"\n",
    "    song_len = min(max(song_len, 15*8), 45*8)\n",
    "    return int(song_len//8)"
   ]
  },
  {
   "cell_type": "code",
   "execution_count": 7,
   "id": "21390682",
   "metadata": {},
   "outputs": [
    {
     "data": {
      "image/png": "[encoded data removed]",
      "text/plain": [
       "<Figure size 640x480 with 1 Axes>"
      ]
     },
     "metadata": {},
     "output_type": "display_data"
    }
   ],
   "source": [
    "# test get_window_length(...)\n",
    "x = [i for i in range(100, 380)]\n",
    "y = [get_window_length(i) for i in x]\n",
    "plt.plot(x, y)\n",
    "plt.show()"
   ]
  },
  {
   "cell_type": "code",
   "execution_count": 8,
   "id": "b6f62a78",
   "metadata": {},
   "outputs": [],
   "source": [
    "def get_samp_per_sec(song_len: float, num_samples: int) -> float:\n",
    "    \"\"\"\n",
    "        Returns number of samples per second\n",
    "        \n",
    "        May not be in use any longer\n",
    "    \"\"\"\n",
    "    if isinstance(num_samples, tuple):\n",
    "        num_samples = num_samples[0]\n",
    "    samp_per_sec = num_samples/song_len\n",
    "    return samp_per_sec"
   ]
  },
  {
   "cell_type": "code",
   "execution_count": 43,
   "id": "9532a24d",
   "metadata": {},
   "outputs": [
    {
     "name": "stdout",
     "output_type": "stream",
     "text": [
      "22049.90638651966\n"
     ]
    }
   ],
   "source": [
    "print(get_samp_per_sec(seconds, samples.shape))"
   ]
  },
  {
   "cell_type": "code",
   "execution_count": 9,
   "id": "f57dd2f5",
   "metadata": {},
   "outputs": [],
   "source": [
    "def create_snippets(song: list[float], song_len: float) -> list[list[float]]:\n",
    "    \"\"\"\n",
    "        Creates 2D numpy array of form:\n",
    "            snippets[num_window][index_in_window]\n",
    "            \n",
    "        Windows overlap at midpoint\n",
    "        \n",
    "        :song: raw audio data\n",
    "        :song_len: length of the song in seconds\n",
    "        \n",
    "        :return windows: list of windows of samples\n",
    "                         each sample has format:\n",
    "                         (seconds since start, audio data)\n",
    "        :return start_times: list of start_times of each\n",
    "                             window in seconds past since\n",
    "                             song start\n",
    "                 \n",
    "    \"\"\"\n",
    "    snippets = np.array([])\n",
    "    start_times = np.array([])\n",
    "    \n",
    "    mult = 44100 # int(get_samp_per_sec(song_len, song.shape[0])) # try replacing with 44100\n",
    "    win_len = mult*get_window_length(song_len)\n",
    "    print(f\"Length of window in samples: {win_len}\")\n",
    "    print(f\"Length of window in seconds: {win_len/mult}\")\n",
    "    \n",
    "    win_start = 0\n",
    "    while win_start < song.shape[0]:\n",
    "        part = song[win_start:win_start + win_len]\n",
    "        if part.shape[0] < win_len:\n",
    "            part = np.pad(part, (0, win_len - part.shape[0]))\n",
    "            \n",
    "        start_times = np.append(start_times, win_start/mult)\n",
    "        snippets = np.vstack((snippets, part)) if snippets.size else part\n",
    "        win_start += win_len//2\n",
    "        \n",
    "    return snippets, start_times"
   ]
  },
  {
   "cell_type": "code",
   "execution_count": 250,
   "id": "0f6e6932",
   "metadata": {},
   "outputs": [
    {
     "name": "stdout",
     "output_type": "stream",
     "text": [
      "Length of window in samples: 1190700\n",
      "Length of window in seconds: 27.0\n",
      "Start time of window (s): 40.5\n",
      "(9, 1190700)\n"
     ]
    },
    {
     "data": {
      "image/png": "[encoded data removed]",
      "text/plain": [
       "<Figure size 640x480 with 1 Axes>"
      ]
     },
     "metadata": {},
     "output_type": "display_data"
    }
   ],
   "source": [
    "# test create_snippets(...)\n",
    "windows, start_times = create_snippets(samples, seconds)\n",
    "\n",
    "print(f\"Start time of window (s): {start_times[3]}\")\n",
    "print(windows.shape)\n",
    "\n",
    "plt.plot(windows[3])\n",
    "plt.show()\n",
    "plt.close()"
   ]
  },
  {
   "cell_type": "markdown",
   "id": "40fb519b",
   "metadata": {},
   "source": [
    "## Goal: Obtain most prevalent frequencies in a window and find closest"
   ]
  },
  {
   "cell_type": "markdown",
   "id": "b2e389a6",
   "metadata": {},
   "source": [
    "### FFT Testing"
   ]
  },
  {
   "cell_type": "code",
   "execution_count": 293,
   "id": "3f223d53",
   "metadata": {},
   "outputs": [
    {
     "name": "stdout",
     "output_type": "stream",
     "text": [
      "[ 27. 300.  10.]\n",
      "[ 27. 300.  10.]\n"
     ]
    },
    {
     "data": {
      "image/png": "[encoded data removed]",
      "text/plain": [
       "<Figure size 640x480 with 1 Axes>"
      ]
     },
     "metadata": {},
     "output_type": "display_data"
    }
   ],
   "source": [
    "# FFT test\n",
    "def f(x):\n",
    "    return (\n",
    "        np.cos(2 * np.pi * 300 * x) + \n",
    "        np.cos(2 * np.pi * 27 * x) +\n",
    "        np.cos(2 * np.pi * 10 * x)\n",
    "    )\n",
    "\n",
    "def F(x):\n",
    "    return fftshift(fft(x))\n",
    "\n",
    "\n",
    "x = np.arange(0, 10, 1/1000)\n",
    "    \n",
    "output = F(f(x))\n",
    "\n",
    "N = len(output)\n",
    "freqs = fftshift(fftfreq(N, 1/1000))\n",
    "\n",
    "midpoint = output.shape[0]//2\n",
    "\n",
    "# positive values only\n",
    "pos_freqs = freqs[midpoint:]\n",
    "pos_output = output[midpoint:]\n",
    "\n",
    "# get top 3 frequencies\n",
    "ind = np.argpartition(pos_output, -3)[-3:]\n",
    "print(np.abs(pos_freqs[ind]))\n",
    "\n",
    "plt.plot(pos_freqs, np.abs(pos_output))\n",
    "plt.title(f\"Peak Freq: {pos_freqs[np.argmax(pos_output)]}\")\n",
    "plt.show()\n",
    "plt.close()"
   ]
  },
  {
   "cell_type": "markdown",
   "id": "4682d936",
   "metadata": {},
   "source": [
    "### Get & Plot FFT Data"
   ]
  },
  {
   "cell_type": "code",
   "execution_count": 251,
   "id": "459b3f1a",
   "metadata": {},
   "outputs": [
    {
     "name": "stdout",
     "output_type": "stream",
     "text": [
      "44100.0\n"
     ]
    },
    {
     "data": {
      "image/png": "[encoded data removed]",
      "text/plain": [
       "<Figure size 640x480 with 1 Axes>"
      ]
     },
     "metadata": {},
     "output_type": "display_data"
    }
   ],
   "source": [
    "# test fft on real sample\n",
    "samps = windows[4]\n",
    "\n",
    "t0 = 0\n",
    "t_max = get_window_length(seconds)\n",
    "fs = get_samp_per_sec(t_max, samps.shape) # try replacing with 44100\n",
    "\n",
    "print(fs)\n",
    "\n",
    "t = np.arange(t0, t_max, 1/fs)\n",
    "\n",
    "samps_fft = fftshift(fft(samps))\n",
    "samps_freqs = fftshift(fftfreq(len(t), 1/fs))\n",
    "\n",
    "\n",
    "plt.plot(samps_freqs, np.abs(samps_fft))\n",
    "plt.xlim(-2000, 2000)\n",
    "plt.show()\n",
    "plt.close()"
   ]
  },
  {
   "cell_type": "code",
   "execution_count": 12,
   "id": "9c7ac8cc",
   "metadata": {},
   "outputs": [],
   "source": [
    "def get_top_k_freqs(fft_data: np.array, fs: int, k: int) -> np.array:\n",
    "    \"\"\"\n",
    "        Gets top k most prevalent frequencies in order of prevalence\n",
    "        \n",
    "        :param fft_data: output of fftshift(fft(...))\n",
    "        :param fs: sampling frequency\n",
    "        :param k: return value contains \n",
    "                  k maximum values\n",
    "                  \n",
    "        :return: k-value array of highest\n",
    "                 frequencies in fft_data\n",
    "    \"\"\"\n",
    "    N = fft_data.shape[0]\n",
    "    freqs = fftshift(fftfreq(N, 1/fs))\n",
    "\n",
    "    # positive values only\n",
    "    pos_freqs = freqs[N//2:]\n",
    "    pos_fft_data = fft_data[N//2:]\n",
    "    pos_fft_data = np.abs(pos_fft_data)\n",
    "\n",
    "    # get top k frequencies\n",
    "    ind = np.argpartition(pos_fft_data, -k)[-k:]\n",
    "    return pos_freqs[ind]"
   ]
  },
  {
   "cell_type": "code",
   "execution_count": 13,
   "id": "5207de32",
   "metadata": {},
   "outputs": [],
   "source": [
    "def transpose_freq(freq: float) -> float:\n",
    "    \"\"\"\n",
    "        Transposes frequencies to fit within one octave\n",
    "        \n",
    "        :param freq: frequency value\n",
    "\n",
    "        :return: transposed frequency\n",
    "                 value in octave 4\n",
    "    \"\"\"\n",
    "    c4_freq = 261.6256\n",
    "    c5_freq = 523.2511\n",
    "    while not (c4_freq <= freq <= c5_freq):\n",
    "        if freq > c5_freq:\n",
    "            freq /= 2\n",
    "        if freq < c4_freq:\n",
    "            freq *= 2\n",
    "            \n",
    "    return freq"
   ]
  },
  {
   "cell_type": "code",
   "execution_count": 14,
   "id": "186f725b",
   "metadata": {},
   "outputs": [
    {
     "name": "stdout",
     "output_type": "stream",
     "text": [
      "392.48484848\n"
     ]
    }
   ],
   "source": [
    "print(transpose_freq(98.12121212))"
   ]
  },
  {
   "cell_type": "markdown",
   "id": "684bee53",
   "metadata": {},
   "source": [
    "### Get Most Prevalent Frequencies"
   ]
  },
  {
   "cell_type": "code",
   "execution_count": 252,
   "id": "12318130",
   "metadata": {},
   "outputs": [
    {
     "name": "stdout",
     "output_type": "stream",
     "text": [
      "Top 12 frequencies:\n",
      "[261.81481481 194.92592593 276.59259259 197.37037037 195.40740741\n",
      " 263.81481481 264.         263.59259259 263.55555556 195.48148148\n",
      " 264.03703704 263.33333333]\n"
     ]
    }
   ],
   "source": [
    "# pitches and frequencies of octave 4\n",
    "pitch_to_freq_4 = {\n",
    "    \"C\" : 261.6256,\n",
    "    \"C#\" : 277.1826,\n",
    "    \"Db\" : 277.1826,\n",
    "    \"D\" : 293.6648,\n",
    "    \"D#\" : 311.1270,\n",
    "    \"Eb\" : 311.1270,\n",
    "    \"E\" : 329.6276,\n",
    "    \"F\" : 349.2282,\n",
    "    \"F#\" : 369.9944,\n",
    "    \"Gb\" : 369.9944,\n",
    "    \"G\" : 391.9954,\n",
    "    \"G#\" : 415.3047,\n",
    "    \"Ab\" : 415.3047,\n",
    "    \"A\" : 440.0000,\n",
    "    \"A#\" : 466.1638,\n",
    "    \"Bb\": 466.1638,\n",
    "    \"B\" : 493.8833\n",
    "}\n",
    "\n",
    "freq_to_pitch_4 = {value : key for key, value in pitch_to_freq_4.items()}\n",
    "\n",
    "k = 12\n",
    "\n",
    "# before transposing\n",
    "most_prev = get_top_k_freqs(samps_fft, fs, k) # replace 44100 with fs if broken\n",
    "\n",
    "# after transposing\n",
    "# most_prev = np.array([transpose_freq(x) for x in most_prev])\n",
    "\n",
    "print(f\"Top {k} frequencies:\\n{most_prev}\")"
   ]
  },
  {
   "cell_type": "code",
   "execution_count": 16,
   "id": "f5058d1b",
   "metadata": {},
   "outputs": [
    {
     "name": "stdout",
     "output_type": "stream",
     "text": [
      "[('C0', 16.351597831287414), ('C1', 32.70319566257483), ('C2', 65.40639132514966), ('C3', 130.8127826502993), ('C4', 261.6255653005986), ('C5', 523.2511306011972), ('C6', 1046.5022612023945), ('C7', 2093.004522404789), ('C8', 4186.009044809578), ('C9', 8372.018089619156), ('C10', 16744.036179238312)]\n"
     ]
    }
   ],
   "source": [
    "# stores pitches from C0 to A10\n",
    "\n",
    "AFreq = 440\n",
    "exponent = -5\n",
    "pitchClasses = {}\n",
    "# no flats/sharps between BC and EF\n",
    "keys = ['A', ('A#','Bb'), 'B', 'C', ('C#','Db'), 'D', ('D#','Eb'), 'E', 'F', ('F#','Gb'), 'G', ('G#','Ab')]\n",
    "\n",
    "while AFreq*math.pow(2,exponent) < 20000:\n",
    "    freqA = AFreq*math.pow(2,exponent)\n",
    "    for num in range(12):\n",
    "        octave = 4+exponent\n",
    "        if isinstance(keys[num], tuple):\n",
    "            if keys[num][0] >= 'C':\n",
    "                octave += 1\n",
    "            pitchClasses.update({keys[num][0]+str(octave) : freqA*math.pow(2, num/12)})\n",
    "            pitchClasses.update({keys[num][1]+str(octave) : freqA*math.pow(2, num/12)})\n",
    "        else:\n",
    "            if keys[num] >= 'C':\n",
    "                octave += 1\n",
    "            pitchClasses.update({keys[num]+str(octave) : freqA*math.pow(2, num/12)})\n",
    "    exponent += 1\n",
    "    \n",
    "# delete pitches before octave 0\n",
    "for _ in range(4):\n",
    "    del pitchClasses[list(pitchClasses.keys())[0]]\n",
    "    \n",
    "# prints all octaves for a pitch class\n",
    "print(list(pitchClasses.items())[::17])"
   ]
  },
  {
   "cell_type": "code",
   "execution_count": 17,
   "id": "9e3fbf92",
   "metadata": {},
   "outputs": [],
   "source": [
    "def get_octave(freq: float) -> int:\n",
    "    \"\"\"\n",
    "        Returns octave number of given frequency\n",
    "        \n",
    "        :param freq: frequency value\n",
    "        \n",
    "        :return: octave number or None if\n",
    "                 beyond octave ranges\n",
    "    \"\"\"\n",
    "    # octave numbers of all Cs\n",
    "    c_freqs = {\n",
    "        0 : 16.35160,\n",
    "        1 : 32.70320,\n",
    "        2 : 65.40639,\n",
    "        3 : 130.8128,\n",
    "        4 : 261.6256,\n",
    "        5 : 523.2511,\n",
    "        6 : 1046.502,\n",
    "        7 : 2093.005,\n",
    "        8 : 4186.009,\n",
    "        9 : 8372.018,\n",
    "        10: 16744.04\n",
    "    }\n",
    "    \n",
    "    for oc, fr in c_freqs.items():\n",
    "        if fr > freq:\n",
    "            return oc - 1\n",
    "        \n",
    "    return None"
   ]
  },
  {
   "cell_type": "code",
   "execution_count": 254,
   "id": "f2d5d44d",
   "metadata": {
    "scrolled": true
   },
   "outputs": [
    {
     "name": "stdout",
     "output_type": "stream",
     "text": [
      "4\n"
     ]
    }
   ],
   "source": [
    "print(get_octave(most_prev[0]))"
   ]
  },
  {
   "cell_type": "code",
   "execution_count": 19,
   "id": "f49a54c6",
   "metadata": {},
   "outputs": [],
   "source": [
    "def get_freqs_in_class(pc: str) -> np.array:\n",
    "    \"\"\"\n",
    "        Returns list of frequencies in given pitch class\n",
    "        \n",
    "        :param pc: name of pitch class\n",
    "        \n",
    "        :return: 11-value array of all\n",
    "                 frequencies from octaves\n",
    "                 0 to 10 for given pitch\n",
    "    \"\"\"\n",
    "    pc = pc[0].upper() + pc[1:]\n",
    "    return np.array([\n",
    "        pitchClasses[x]\n",
    "        for x in pitchClasses\n",
    "        if x[:len(pc)] == pc\n",
    "    ])"
   ]
  },
  {
   "cell_type": "code",
   "execution_count": 224,
   "id": "0003e9db",
   "metadata": {},
   "outputs": [
    {
     "name": "stdout",
     "output_type": "stream",
     "text": [
      "[1.73239144e+01 3.46478289e+01 6.92956577e+01 1.38591315e+02\n",
      " 2.77182631e+02 5.54365262e+02 1.10873052e+03 2.21746105e+03\n",
      " 4.43492210e+03 8.86984419e+03 1.77396884e+04]\n"
     ]
    }
   ],
   "source": [
    "print(get_freqs_in_class(\"c#\"))"
   ]
  },
  {
   "cell_type": "code",
   "execution_count": 21,
   "id": "f1284ba9",
   "metadata": {},
   "outputs": [],
   "source": [
    "def get_freqs_in_octave(freq: float) -> np.array:\n",
    "    \"\"\"\n",
    "        Returns all pitches in octave of freq\n",
    "        \n",
    "        :param freq: frequency value\n",
    "        \n",
    "        :return: 17-value array of all frequencies in\n",
    "                 same octave as freq\n",
    "    \"\"\"\n",
    "    oc = get_octave(freq)\n",
    "    return np.array([\n",
    "        pitchClasses[x]\n",
    "        for x in pitchClasses\n",
    "        if ''.join(c for c in x\n",
    "                   if c.isdigit()) == str(oc)\n",
    "    ])"
   ]
  },
  {
   "cell_type": "code",
   "execution_count": 261,
   "id": "7c5f155b",
   "metadata": {},
   "outputs": [
    {
     "name": "stdout",
     "output_type": "stream",
     "text": [
      "[130.81278265 138.59131549 138.59131549 146.83238396 155.56349186\n",
      " 155.56349186 164.81377846 174.61411572 184.99721136 184.99721136\n",
      " 195.99771799 207.65234879 207.65234879 220.         233.08188076\n",
      " 233.08188076 246.94165063]\n"
     ]
    }
   ],
   "source": [
    "# test get_freqs_in_octave(...)\n",
    "print(get_freqs_in_octave(most_prev[1]))"
   ]
  },
  {
   "cell_type": "code",
   "execution_count": 23,
   "id": "887b9124",
   "metadata": {},
   "outputs": [],
   "source": [
    "def broadcast_down(freq_arr: np.array) -> np.array:\n",
    "    \"\"\"\n",
    "        Resizes array from 17 pitches to 12\n",
    "        to account for enharmonicity\n",
    "        \n",
    "        Will NOT contain duplicates\n",
    "    \"\"\"\n",
    "    if len(freq_arr) == 12:\n",
    "        return freq_arr\n",
    "    \n",
    "    res = []\n",
    "    visited = set()\n",
    "    \n",
    "    for val in freq_arr:\n",
    "        if val not in visited:\n",
    "            visited.add(val)\n",
    "            res.append(val)\n",
    "        \n",
    "    return np.array(res)\n",
    "\n",
    "\n",
    "def broadcast_up(freq_arr: np.array) -> np.array:\n",
    "    \"\"\"\n",
    "        Resizes array from 12 pitches to 17\n",
    "        to account for enharmonicity\n",
    "        \n",
    "        Will contain duplicates\n",
    "        \n",
    "        **DOES NOT RETAIN ORDER**\n",
    "    \"\"\"\n",
    "    if len(freq_arr) == 17:\n",
    "        return freq_arr\n",
    "    \n",
    "    res = np.array([None]*17)\n",
    "    enharm = [1, 4, 6, 9, 11]\n",
    "    extra_i = 0\n",
    "    \n",
    "    for i in range(12):\n",
    "        if i in enharm:\n",
    "            res[i+extra_i] = freq_arr[i]\n",
    "            extra_i += 1\n",
    "        res[i+extra_i] = freq_arr[i]\n",
    "        \n",
    "    return res"
   ]
  },
  {
   "cell_type": "code",
   "execution_count": 24,
   "id": "679a7202",
   "metadata": {},
   "outputs": [],
   "source": [
    "def get_closest_pitch(freq: float) -> str:\n",
    "    \"\"\"\n",
    "        Returns closest pitch for given frequency\n",
    "        \n",
    "        :param freq: frequency value\n",
    "        \n",
    "        :return: string containing pitch\n",
    "                 class and octave number\n",
    "    \"\"\"\n",
    "    oc_freqs = get_freqs_in_octave(freq)\n",
    "    oc_freqs -= freq\n",
    "    oc_freqs = np.abs(oc_freqs)\n",
    "    ind = np.argmin(oc_freqs) # index of closest\n",
    "    closest_pc = list(pitch_to_freq_4)[ind]\n",
    "    closest_oc = str(get_octave(freq))\n",
    "    return closest_pc + closest_oc "
   ]
  },
  {
   "cell_type": "code",
   "execution_count": 262,
   "id": "8352906f",
   "metadata": {},
   "outputs": [
    {
     "name": "stdout",
     "output_type": "stream",
     "text": [
      "C4\n"
     ]
    }
   ],
   "source": [
    "# test get_closest_pitch(...)\n",
    "print(get_closest_pitch(most_prev[0]))"
   ]
  },
  {
   "cell_type": "markdown",
   "id": "157ea32b",
   "metadata": {},
   "source": [
    "### Find Closest Pitches from Given Window"
   ]
  },
  {
   "cell_type": "code",
   "execution_count": 263,
   "id": "ee2e4ab0",
   "metadata": {},
   "outputs": [
    {
     "data": {
      "image/png": "[encoded data removed]",
      "text/plain": [
       "<Figure size 640x480 with 1 Axes>"
      ]
     },
     "metadata": {},
     "output_type": "display_data"
    }
   ],
   "source": [
    "# print prevalence of pitches relative to prevalence number prev_num\n",
    "\n",
    "# prevalence number; 0 is highest\n",
    "prev_num = 0\n",
    "\n",
    "# stores frequencies in scale of most_prev[prev_num]\n",
    "curr_freqs = get_freqs_in_octave(most_prev[prev_num])\n",
    "freqs_dist = curr_freqs - most_prev[prev_num]\n",
    "\n",
    "ptf4 = list(pitch_to_freq_4)\n",
    "\n",
    "plt.stem(list(ptf4), freqs_dist)\n",
    "plt.xticks(rotation=45)\n",
    "plt.title(f\"Distance to pitch of prevalence {prev_num}\")\n",
    "plt.show()\n",
    "plt.close()"
   ]
  },
  {
   "cell_type": "code",
   "execution_count": 27,
   "id": "8637a5a9",
   "metadata": {},
   "outputs": [],
   "source": [
    "def get_pitch_counts(most_prev: np.array) -> Counter:\n",
    "    \"\"\"\n",
    "        Gets Counter of most prevalent pitch classes\n",
    "        \n",
    "        :param most_prev: NP array of most\n",
    "                          prevalent pitches\n",
    "                          \n",
    "        :return: Counter of most prevalent\n",
    "                 pitch classes\n",
    "    \"\"\"\n",
    "    # get closest pitch for each prevalent frequency\n",
    "    closest_pitches = np.array([get_closest_pitch(x) for x in most_prev])\n",
    "\n",
    "    # remove octave number\n",
    "    for i, _ in enumerate(closest_pitches):\n",
    "        while closest_pitches[i][-1].isdigit():\n",
    "            closest_pitches[i] = closest_pitches[i][:-1]\n",
    "\n",
    "    return Counter(closest_pitches)\n",
    "\n",
    "\n",
    "def get_pitch_vector(most_prev: np.array) -> np.array:\n",
    "    \"\"\"\n",
    "        Returns vector of pitch counts indexed\n",
    "        by semitone distance to C\n",
    "        \n",
    "        e.g.: C -> index 0\n",
    "              G -> index 7\n",
    "              \n",
    "        :param most_prev: NP array of most\n",
    "                          prevalent pitches\n",
    "                          \n",
    "        :return: 12-value vector of most\n",
    "                 prevalent pitch counts\n",
    "                 indexed at C\n",
    "    \"\"\"\n",
    "    pitch_vec = np.array([0]*12)\n",
    "    pitch_names = [\"C\", \"C#/Db\", \"D\", \"D#/Eb\",\"E\",\n",
    "                   \"F\", \"F#/Gb\", \"G\", \"G#/Ab\", \"A\",\n",
    "                   \"A#/Bb\", \"B\"]\n",
    "    pitch_names_dict = {\n",
    "        pitch_names[i] : i\n",
    "        for i in range(len(pitch_names))\n",
    "    }\n",
    "    enharm_names_dict = {\n",
    "        \"C#\" : 1, \"Db\" : 1,\n",
    "        \"D#\" : 3, \"Eb\" : 3,\n",
    "        \"F#\" : 6, \"Gb\" : 6,\n",
    "        \"G#\" : 8, \"Ab\" : 8,\n",
    "        \"A#\" : 10, \"Bb\" : 10\n",
    "    }\n",
    "    \n",
    "    pitch_counts = get_pitch_counts(most_prev)\n",
    "\n",
    "    for pitch in pitch_counts:\n",
    "        p = pitch[0].upper() + pitch[1:]\n",
    "        \n",
    "        if \"#\" in p or \"b\" in p:\n",
    "            ind = enharm_names_dict[p]\n",
    "        else:\n",
    "            ind = pitch_names_dict[p]\n",
    "            \n",
    "        pitch_vec[ind] += pitch_counts[pitch]\n",
    "        \n",
    "    \n",
    "    return pitch_vec"
   ]
  },
  {
   "cell_type": "code",
   "execution_count": 264,
   "id": "e7b8a2c4",
   "metadata": {},
   "outputs": [
    {
     "data": {
      "image/png": "[encoded data removed]",
      "text/plain": [
       "<Figure size 640x480 with 1 Axes>"
      ]
     },
     "metadata": {},
     "output_type": "display_data"
    }
   ],
   "source": [
    "pitch_counts = get_pitch_counts(most_prev)\n",
    "\n",
    "pitches = [pair[0] for pair in pitch_counts.items()]\n",
    "counts = [pair[1] for pair in pitch_counts.items()]\n",
    "\n",
    "plt.stem(pitches, counts)\n",
    "plt.title(\"Non-zero Values in Pitch Vector\")\n",
    "plt.show()\n",
    "plt.close()"
   ]
  },
  {
   "cell_type": "code",
   "execution_count": 266,
   "id": "9bc98c05",
   "metadata": {},
   "outputs": [
    {
     "name": "stdout",
     "output_type": "stream",
     "text": [
      "Pitch Vector: [7 1 0 0 0 0 0 4 0 0 0 0]\n",
      "Transposing up 8 semitones\n",
      "Rotated Pitch Vector: [0.0, 0.0, 0.0, 4.0, 0.0, 0.0, 0.0, 0.0, 7.0, 1.0, 0.0, 0.0]\n"
     ]
    }
   ],
   "source": [
    "# C Major pitch vector: [1, 0, 1, 0, 1, 1, 0, 1, 0, 1, 0, 1]\n",
    "# C Minor pitch vector: [1, 0, 1, 1, 0, 1, 0, 1, 1, 0, 1, 0]\n",
    "pv = get_pitch_vector(most_prev)\n",
    "print(\"Pitch Vector:\", pv)\n",
    "\n",
    "# stores center of mass of indices\n",
    "# weighted by count value\n",
    "com = np.round(np.average(np.arange(len(pv)), weights=pv))\n",
    "pvq = deque(pv)\n",
    "\n",
    "num_semitones = int(com) + (len(pvq)//2)\n",
    "print(f\"Transposing up {num_semitones} semitones\")\n",
    "pvq.rotate(num_semitones)\n",
    "print(\"Rotated Pitch Vector:\", [float(val) for val in pvq])"
   ]
  },
  {
   "cell_type": "markdown",
   "id": "0409b788",
   "metadata": {},
   "source": [
    "### TODO: Fix the transposition function to center at C (index 0)"
   ]
  },
  {
   "cell_type": "markdown",
   "id": "fc18e0e6",
   "metadata": {},
   "source": [
    "May be able to try below method with major and minor chord tones, then use return value to determine which key is most likely between parallel scales"
   ]
  },
  {
   "cell_type": "code",
   "execution_count": 29,
   "id": "d5a075ed",
   "metadata": {},
   "outputs": [],
   "source": [
    "def get_dist_to_C(p_vec: np.array) -> int:\n",
    "    \"\"\"\n",
    "        Returns number of right rotations (up transpositions)\n",
    "        to arrive at C\n",
    "    \"\"\"\n",
    "    DIATONIC_WEIGHT = 1.0\n",
    "    CHROMATIC_WEIGHT = 0.2\n",
    "\n",
    "    \"\"\"\n",
    "    MAY BE ABLE TO OPTIMIZE\n",
    "    \"\"\"\n",
    "    chord_weights = np.array([CHROMATIC_WEIGHT]*12)\n",
    "    chord_weights[0] = 0.7*DIATONIC_WEIGHT      # root\n",
    "    chord_weights[3] = DIATONIC_WEIGHT          # minor 3\n",
    "    chord_weights[4] = DIATONIC_WEIGHT          # major 3\n",
    "    chord_weights[7] = 0.5*DIATONIC_WEIGHT      # perfect fifth; may be omitted\n",
    "    chord_weights[10] = 0.85*DIATONIC_WEIGHT    # minor 7\n",
    "    chord_weights[11] = 0.85*DIATONIC_WEIGHT    # major 7\n",
    "\n",
    "    # find shift that maximizes weight chord tones\n",
    "    max_val = 0\n",
    "    max_shift = 0\n",
    "    for i in range(12):\n",
    "        tq = deque(p_vec)\n",
    "        tq.rotate(i)\n",
    "        \n",
    "        # emphasize chord tones\n",
    "        tq *= chord_weights\n",
    "        # prints shift value, weighted sum, and weighted pitch vector\n",
    "        print(i, sum(tq), [float(val) for val in tq])\n",
    "        \n",
    "        if sum(tq) > max_val:\n",
    "            max_val = sum(tq)\n",
    "            max_shift = i\n",
    "            \n",
    "    return max_shift"
   ]
  },
  {
   "cell_type": "code",
   "execution_count": 275,
   "id": "315dfd82",
   "metadata": {},
   "outputs": [],
   "source": [
    "def get_dist_to_C_with_quality(p_vec: np.array, verbose=False) -> int:\n",
    "    \"\"\"\n",
    "        TODO: Make the weights of chord tones depend on\n",
    "              number of distinct pitches in window\n",
    "\n",
    "        Returns number of semitones to shift DOWN\n",
    "        (rotate) to make most likely root index 0\n",
    "        \n",
    "        Checks both C major and minor and returns based on\n",
    "        most likely result\n",
    "        \n",
    "        :return: tuple containing semitone shift\n",
    "                 value to get to C and `quality`\n",
    "                 \n",
    "                 if major, `quality` = True\n",
    "    \"\"\"\n",
    "    DIATONIC_WEIGHT = 1.0\n",
    "    CHROMATIC_WEIGHT = 0.05\n",
    "    pitch_names = [\"C\", \"C#/Db\", \"D\", \"D#/Eb\",\"E\",\n",
    "                   \"F\", \"F#/Gb\", \"G\", \"G#/Ab\", \"A\",\n",
    "                   \"A#/Bb\", \"B\"]\n",
    "\n",
    "    # initialize weights of chord tones\n",
    "    major_chord_weights = np.array([CHROMATIC_WEIGHT]*12)\n",
    "    minor_chord_weights = np.array([CHROMATIC_WEIGHT]*12)\n",
    "    \n",
    "    # roots\n",
    "    major_chord_weights[0] = 0.6*DIATONIC_WEIGHT\n",
    "    minor_chord_weights[0] = 0.6*DIATONIC_WEIGHT\n",
    "    \n",
    "    # perfect fifths\n",
    "    major_chord_weights[7] = 0.4*DIATONIC_WEIGHT\n",
    "    minor_chord_weights[7] = 0.4*DIATONIC_WEIGHT\n",
    "    \n",
    "    # thirds\n",
    "    minor_chord_weights[3] = 0.9*DIATONIC_WEIGHT          # minor 3\n",
    "    major_chord_weights[4] = 0.9*DIATONIC_WEIGHT          # major 3\n",
    "    \n",
    "    # ----- Upper Chord Extensions -----\n",
    "    \n",
    "    # chord sevenths\n",
    "    minor_chord_weights[10] = 0.5*DIATONIC_WEIGHT    # minor 7\n",
    "    major_chord_weights[11] = 0.5*DIATONIC_WEIGHT    # major 7\n",
    "    \n",
    "    # chord ninths\n",
    "    minor_chord_weights[2] = 0.7*DIATONIC_WEIGHT\n",
    "    major_chord_weights[2] = 0.7*DIATONIC_WEIGHT\n",
    "    \n",
    "    # ----- Tendency Tones -----\n",
    "    \n",
    "    major_chord_weights[5] = 0.4*DIATONIC_WEIGHT    # 4 -> 3\n",
    "    minor_chord_weights[8] = 0.4*DIATONIC_WEIGHT    # 6 -> 5\n",
    "    \n",
    "\n",
    "    # find shift that maximizes weight chord tones\n",
    "    quality = True\n",
    "    max_val = 0\n",
    "    shift = 0\n",
    "    \n",
    "    # check both major and minor modes\n",
    "    for chord_weights in [major_chord_weights, minor_chord_weights]:\n",
    "        isMajor = all(np.equal(chord_weights, major_chord_weights))\n",
    "        \n",
    "        if verbose:\n",
    "            print(\"Major\" if isMajor else \"Minor\")\n",
    "            print(\"Chord Weights:\", [float(val) for val in chord_weights])\n",
    "            print(\"Pitch Vector (No Rotation):\", [float(val) for val in p_vec])\n",
    "        \n",
    "        for i in range(12):\n",
    "            # rolling by POSITIVE value transposes DOWN\n",
    "            pv = np.roll(p_vec, i)\n",
    "            \n",
    "            # emphasize chord tones\n",
    "            pv = np.multiply(pv, chord_weights)\n",
    "            \n",
    "            # prints shift value, weighted sum, and weighted pitch vector\n",
    "            if verbose:\n",
    "                key = pitch_names[-i]\n",
    "                print(f\"{key}\\t{np.round(np.sum(pv), 3)}\\t{[float(val) for val in pv]}\")\n",
    "            \n",
    "            if np.sum(pv) > max_val:\n",
    "                max_val = np.sum(pv)\n",
    "                \n",
    "                quality = isMajor\n",
    "                shift = i\n",
    "            \n",
    "    # return semitones to shift \n",
    "    return shift, quality"
   ]
  },
  {
   "cell_type": "code",
   "execution_count": 258,
   "id": "59435f5b",
   "metadata": {},
   "outputs": [
    {
     "data": {
      "image/png": "[encoded data removed]",
      "text/plain": [
       "<Figure size 640x480 with 1 Axes>"
      ]
     },
     "metadata": {},
     "output_type": "display_data"
    }
   ],
   "source": [
    "# test get_dist_to_C(...)\n",
    "\n",
    "# C major 7 chord, emphasized 3\n",
    "test_arr = np.array([20, 0, 0, 0, 30, 0, 0, 10, 0, 0, 0, 5]).astype(np.float32)\n",
    "\n",
    "test_arr = np.roll(test_arr, 5)\n",
    "\n",
    "test_shift, quality = get_dist_to_C_with_quality(test_arr)\n",
    "\n",
    "test_q = deque(test_arr)\n",
    "test_q.rotate(test_shift)\n",
    "\n",
    "plt.plot(test_arr, label=\"Pre-Rotation\")\n",
    "plt.plot(test_q, label=\"Post-Rotation\")\n",
    "plt.legend()\n",
    "plt.show()\n",
    "plt.close()"
   ]
  },
  {
   "cell_type": "code",
   "execution_count": 33,
   "id": "dfa617da",
   "metadata": {},
   "outputs": [],
   "source": [
    "def get_scale_from_vector(p_vec: list) -> str:\n",
    "    \"\"\"\n",
    "        Return name of most likely scale\n",
    "        given vector of most prevalent pitches\n",
    "        \n",
    "        :param p_vec: 12-value pitch vector\n",
    "        \n",
    "        :return: name of scale\n",
    "    \"\"\"\n",
    "    # stores semitones to be transposed to get to C\n",
    "    # less emphasis on 2, 4, and 5\n",
    "    c_major = [1, 0, 0.6, 0, 1, 0.7, 0, 0.4, 0, 1, 0, 1]\n",
    "    c_minor = [1, 0, 0.6, 1, 0, 0.7, 0, 0.4, 1, 0, 1, 0]\n",
    "    pitch_names = [\"C\", \"C#/Db\", \"D\", \"D#/Eb\",\"E\",\n",
    "                   \"F\", \"F#/Gb\", \"G\", \"G#/Ab\", \"A\",\n",
    "                   \"A#/Bb\", \"B\"]\n",
    "    \n",
    "    c_major = np.array(c_major)\n",
    "    c_minor = np.array(c_minor)\n",
    "    \n",
    "    # ----- NOT IN USE -----\n",
    "    # # center of mass of indices\n",
    "    # # weighted by count value\n",
    "    # com = np.round(\n",
    "    #     np.average(np.arange(len(p_vec)),\n",
    "    #     weights=p_vec)\n",
    "    # )\n",
    "    # pvq = deque(p_vec)\n",
    "    \n",
    "    # semitones = int(com) + (len(pvq)//2) # what is this for?\n",
    "    # pvq.rotate(semitones)\n",
    "    \n",
    "    # pv = np.array(pvq)\n",
    "    # ----- NOT IN USE -----\n",
    "    \n",
    "    semitones, quality = get_dist_to_C_with_quality(p_vec)\n",
    "    key = pitch_names[semitones]\n",
    "    # print(\"[get_scale_from_vector]\", semitones, key)\n",
    "    \n",
    "    pv = deque(p_vec)\n",
    "    pv.rotate(semitones)\n",
    "    \n",
    "    # Euclidean distance to major or minor\n",
    "    major_dist = np.linalg.norm(np.abs(pv-c_major))\n",
    "    minor_dist = np.linalg.norm(np.abs(pv-c_minor))\n",
    "    \n",
    "    quality = \"Major\"\n",
    "    if major_dist > minor_dist:\n",
    "        quality = \"Minor\"\n",
    "    \n",
    "    return pitch_names[-semitones%12] + \" \" + quality"
   ]
  },
  {
   "cell_type": "code",
   "execution_count": 267,
   "id": "73c6d3c5",
   "metadata": {},
   "outputs": [
    {
     "name": "stdout",
     "output_type": "stream",
     "text": [
      "G#/Ab Major\n"
     ]
    }
   ],
   "source": [
    "# test get_scale_from_vector(...)\n",
    "pv = get_pitch_vector(most_prev)\n",
    "print(get_scale_from_vector(pv))"
   ]
  },
  {
   "cell_type": "code",
   "execution_count": 276,
   "id": "90ba56e1",
   "metadata": {},
   "outputs": [
    {
     "name": "stdout",
     "output_type": "stream",
     "text": [
      "Major\n",
      "Chord Weights: [0.6, 0.05, 0.7, 0.05, 0.9, 0.4, 0.05, 0.4, 0.05, 0.05, 0.05, 0.5]\n",
      "Pitch Vector (No Rotation): [7.0, 1.0, 0.0, 0.0, 0.0, 0.0, 0.0, 4.0, 0.0, 0.0, 0.0, 0.0]\n",
      "C\t5.85\t[4.2, 0.05, 0.0, 0.0, 0.0, 0.0, 0.0, 1.6, 0.0, 0.0, 0.0, 0.0]\n",
      "B\t1.25\t[0.0, 0.35000000000000003, 0.7, 0.0, 0.0, 0.0, 0.0, 0.0, 0.2, 0.0, 0.0, 0.0]\n",
      "A#/Bb\t5.15\t[0.0, 0.0, 4.8999999999999995, 0.05, 0.0, 0.0, 0.0, 0.0, 0.0, 0.2, 0.0, 0.0]\n",
      "A\t1.45\t[0.0, 0.0, 0.0, 0.35000000000000003, 0.9, 0.0, 0.0, 0.0, 0.0, 0.0, 0.2, 0.0]\n",
      "G#/Ab\t8.7\t[0.0, 0.0, 0.0, 0.0, 6.3, 0.4, 0.0, 0.0, 0.0, 0.0, 0.0, 2.0]\n",
      "G\t5.25\t[2.4, 0.0, 0.0, 0.0, 0.0, 2.8000000000000003, 0.05, 0.0, 0.0, 0.0, 0.0, 0.0]\n",
      "F#/Gb\t0.95\t[0.0, 0.2, 0.0, 0.0, 0.0, 0.0, 0.35000000000000003, 0.4, 0.0, 0.0, 0.0, 0.0]\n",
      "F\t5.65\t[0.0, 0.0, 2.8, 0.0, 0.0, 0.0, 0.0, 2.8000000000000003, 0.05, 0.0, 0.0, 0.0]\n",
      "E\t0.6\t[0.0, 0.0, 0.0, 0.2, 0.0, 0.0, 0.0, 0.0, 0.35000000000000003, 0.05, 0.0, 0.0]\n",
      "D#/Eb\t4.0\t[0.0, 0.0, 0.0, 0.0, 3.6, 0.0, 0.0, 0.0, 0.0, 0.35000000000000003, 0.05, 0.0]\n",
      "D\t2.45\t[0.0, 0.0, 0.0, 0.0, 0.0, 1.6, 0.0, 0.0, 0.0, 0.0, 0.35000000000000003, 0.5]\n",
      "C#/Db\t4.3\t[0.6, 0.0, 0.0, 0.0, 0.0, 0.0, 0.2, 0.0, 0.0, 0.0, 0.0, 3.5]\n",
      "Minor\n",
      "Chord Weights: [0.6, 0.05, 0.7, 0.9, 0.05, 0.05, 0.05, 0.4, 0.4, 0.05, 0.5, 0.05]\n",
      "Pitch Vector (No Rotation): [7.0, 1.0, 0.0, 0.0, 0.0, 0.0, 0.0, 4.0, 0.0, 0.0, 0.0, 0.0]\n",
      "C\t5.85\t[4.2, 0.05, 0.0, 0.0, 0.0, 0.0, 0.0, 1.6, 0.0, 0.0, 0.0, 0.0]\n",
      "B\t2.65\t[0.0, 0.35000000000000003, 0.7, 0.0, 0.0, 0.0, 0.0, 0.0, 1.6, 0.0, 0.0, 0.0]\n",
      "A#/Bb\t6.0\t[0.0, 0.0, 4.8999999999999995, 0.9, 0.0, 0.0, 0.0, 0.0, 0.0, 0.2, 0.0, 0.0]\n",
      "A\t8.35\t[0.0, 0.0, 0.0, 6.3, 0.05, 0.0, 0.0, 0.0, 0.0, 0.0, 2.0, 0.0]\n",
      "G#/Ab\t0.6\t[0.0, 0.0, 0.0, 0.0, 0.35000000000000003, 0.05, 0.0, 0.0, 0.0, 0.0, 0.0, 0.2]\n",
      "G\t2.8\t[2.4, 0.0, 0.0, 0.0, 0.0, 0.35000000000000003, 0.05, 0.0, 0.0, 0.0, 0.0, 0.0]\n",
      "F#/Gb\t0.95\t[0.0, 0.2, 0.0, 0.0, 0.0, 0.0, 0.35000000000000003, 0.4, 0.0, 0.0, 0.0, 0.0]\n",
      "F\t6.0\t[0.0, 0.0, 2.8, 0.0, 0.0, 0.0, 0.0, 2.8000000000000003, 0.4, 0.0, 0.0, 0.0]\n",
      "E\t6.45\t[0.0, 0.0, 0.0, 3.6, 0.0, 0.0, 0.0, 0.0, 2.8000000000000003, 0.05, 0.0, 0.0]\n",
      "D#/Eb\t1.05\t[0.0, 0.0, 0.0, 0.0, 0.2, 0.0, 0.0, 0.0, 0.0, 0.35000000000000003, 0.5, 0.0]\n",
      "D\t3.75\t[0.0, 0.0, 0.0, 0.0, 0.0, 0.2, 0.0, 0.0, 0.0, 0.0, 3.5, 0.05]\n",
      "C#/Db\t1.15\t[0.6, 0.0, 0.0, 0.0, 0.0, 0.0, 0.2, 0.0, 0.0, 0.0, 0.0, 0.35000000000000003]\n",
      "[0 0 0 0 7 1 0 0 0 0 0 4]\n",
      "Semitones to shift DOWN: 4\n",
      "G#/Ab Major\n"
     ]
    }
   ],
   "source": [
    "# test get_dist_to_C_with_quality(...)\n",
    "pitch_names = [\"C\", \"C#/Db\", \"D\", \"D#/Eb\",\"E\",\n",
    "                \"F\", \"F#/Gb\", \"G\", \"G#/Ab\", \"A\",\n",
    "                \"A#/Bb\", \"B\"]\n",
    "\n",
    "smtns, qlty = get_dist_to_C_with_quality(pv, verbose=True)\n",
    "\n",
    "# smtns should be 2\n",
    "\n",
    "print(np.roll(pv, smtns))\n",
    "print(\"Semitones to shift DOWN:\", smtns)\n",
    "print(pitch_names[-smtns], (\"Major\" if quality else \"Minor\"))"
   ]
  },
  {
   "cell_type": "markdown",
   "id": "d09b1cde",
   "metadata": {},
   "source": [
    "## Use collected data to choose most likely scale"
   ]
  },
  {
   "cell_type": "code",
   "execution_count": 364,
   "id": "a9fc989c",
   "metadata": {},
   "outputs": [],
   "source": [
    "\"\"\"\n",
    "    TODO\n",
    "    (_) write function to transpose scale to whichever one has\n",
    "        least amount of accidentals\n",
    "    (_) write a function (or hard-code) all modes of C\n",
    "    (_) compare transposed pitch set to modes of C and\n",
    "        return scale with highest match\n",
    "        **RETRANSPOSE SCALE TO ORIGINAL**\n",
    "        \n",
    "    When doing machine learning part, penalize parallel\n",
    "    major/minor much less\n",
    "\"\"\"\n",
    "\n",
    "def get_scale_from_root(root: str, isMajor: bool) -> list[tuple]:\n",
    "    \"\"\"\n",
    "        Returns a scale rooted on `root` of\n",
    "        quality `isMajor`\n",
    "        \n",
    "        :param root: root of scale\n",
    "        :param isMajor: Major if True, minor if False\n",
    "        \n",
    "        :return: list of chords in scale and\n",
    "                 their respective qualities\n",
    "                 \n",
    "                 quality is a one-hot encoded\n",
    "                 bit vector of following format:\n",
    "                 \n",
    "                 0    0    0    0\n",
    "                 |    |    |    |__ Augmented\n",
    "                 |    |    |_______ Diminished\n",
    "                 |    |____________ Minor\n",
    "                 |_________________ Major\n",
    "    \"\"\"\n",
    "    root = root.upper()\n",
    "    qualities = []\n",
    "    \n",
    "    maj_intvs = [0,2,4,5,7,9,11]\n",
    "    min_intvs = [0,2,3,5,7,8,10]"
   ]
  },
  {
   "cell_type": "code",
   "execution_count": 363,
   "id": "f8d80a75",
   "metadata": {},
   "outputs": [
    {
     "name": "stdout",
     "output_type": "stream",
     "text": [
      "[('A', 1), ('C#', 3), ('E', 2), ('F', 2), ('F#', 3), ('G', 1)]\n"
     ]
    }
   ],
   "source": [
    "# alphabetize pitch classes\n",
    "print(sorted(pitch_counts.items()))"
   ]
  }
 ],
 "metadata": {
  "kernelspec": {
   "display_name": ".venv",
   "language": "python",
   "name": "python3"
  },
  "language_info": {
   "codemirror_mode": {
    "name": "ipython",
    "version": 3
   },
   "file_extension": ".py",
   "mimetype": "text/x-python",
   "name": "python",
   "nbconvert_exporter": "python",
   "pygments_lexer": "ipython3",
   "version": "3.11.5"
  }
 },
 "nbformat": 4,
 "nbformat_minor": 5
}
